{
 "cells": [
  {
   "cell_type": "code",
   "execution_count": null,
   "metadata": {
    "colab": {
     "base_uri": "https://localhost:8080/"
    },
    "collapsed": true,
    "executionInfo": {
     "elapsed": 5097,
     "status": "ok",
     "timestamp": 1734098478402,
     "user": {
      "displayName": "Arian ghaderi",
      "userId": "07749721859380516600"
     },
     "user_tz": -210
    },
    "id": "LdP0FK7dUS9T",
    "outputId": "3d366f5a-c0c1-4e9b-b39d-7001adea2cf3"
   },
   "outputs": [],
   "source": [
    "!pip install transformers\n",
    "!pip install datasets\n",
    "!pip install evaluate"
   ]
  },
  {
   "cell_type": "code",
   "execution_count": 2,
   "metadata": {
    "executionInfo": {
     "elapsed": 307,
     "status": "ok",
     "timestamp": 1734082544058,
     "user": {
      "displayName": "Arian ghaderi",
      "userId": "07749721859380516600"
     },
     "user_tz": -210
    },
    "id": "TAhDFvytWP1s"
   },
   "outputs": [],
   "source": [
    "!mkdir dataset_tgh"
   ]
  },
  {
   "cell_type": "markdown",
   "metadata": {
    "id": "mbEjHJFmX_UW"
   },
   "source": [
    "لود دیتاست"
   ]
  },
  {
   "cell_type": "code",
   "execution_count": 5,
   "metadata": {
    "executionInfo": {
     "elapsed": 805,
     "status": "ok",
     "timestamp": 1734098483177,
     "user": {
      "displayName": "Arian ghaderi",
      "userId": "07749721859380516600"
     },
     "user_tz": -210
    },
    "id": "FqGRhLMoX-Qa"
   },
   "outputs": [],
   "source": [
    "from datasets import load_dataset\n",
    "\n",
    "dataset= load_dataset('csv',data_files='/content/drive/MyDrive/Colab Notebooks/data/taghche.csv')"
   ]
  },
  {
   "cell_type": "code",
   "execution_count": 6,
   "metadata": {
    "colab": {
     "base_uri": "https://localhost:8080/"
    },
    "executionInfo": {
     "elapsed": 8,
     "status": "ok",
     "timestamp": 1734098484280,
     "user": {
      "displayName": "Arian ghaderi",
      "userId": "07749721859380516600"
     },
     "user_tz": -210
    },
    "id": "E-CmvMrxZFju",
    "outputId": "4911a9bb-0268-4661-c032-0942204da63f"
   },
   "outputs": [
    {
     "data": {
      "text/plain": [
       "DatasetDict({\n",
       "    train: Dataset({\n",
       "        features: ['date', 'comment', 'bookname', 'rate', 'bookID', 'like'],\n",
       "        num_rows: 69829\n",
       "    })\n",
       "})"
      ]
     },
     "execution_count": 6,
     "metadata": {},
     "output_type": "execute_result"
    }
   ],
   "source": [
    "dataset"
   ]
  },
  {
   "cell_type": "code",
   "execution_count": 7,
   "metadata": {
    "executionInfo": {
     "elapsed": 272,
     "status": "ok",
     "timestamp": 1734098487014,
     "user": {
      "displayName": "Arian ghaderi",
      "userId": "07749721859380516600"
     },
     "user_tz": -210
    },
    "id": "iV6kmNcTZgDr"
   },
   "outputs": [],
   "source": [
    "dataset= dataset.remove_columns(['date','bookname','bookID', 'like'])"
   ]
  },
  {
   "cell_type": "code",
   "execution_count": 8,
   "metadata": {
    "colab": {
     "base_uri": "https://localhost:8080/"
    },
    "executionInfo": {
     "elapsed": 334,
     "status": "ok",
     "timestamp": 1734098488478,
     "user": {
      "displayName": "Arian ghaderi",
      "userId": "07749721859380516600"
     },
     "user_tz": -210
    },
    "id": "dk6gBu--aDq7",
    "outputId": "c2f5ed6f-d9c0-4d0c-89c7-12de3e4fb2ee"
   },
   "outputs": [
    {
     "data": {
      "text/plain": [
       "DatasetDict({\n",
       "    train: Dataset({\n",
       "        features: ['comment', 'rate'],\n",
       "        num_rows: 69829\n",
       "    })\n",
       "})"
      ]
     },
     "execution_count": 8,
     "metadata": {},
     "output_type": "execute_result"
    }
   ],
   "source": [
    "dataset"
   ]
  },
  {
   "cell_type": "code",
   "execution_count": 9,
   "metadata": {
    "executionInfo": {
     "elapsed": 316,
     "status": "ok",
     "timestamp": 1734098490436,
     "user": {
      "displayName": "Arian ghaderi",
      "userId": "07749721859380516600"
     },
     "user_tz": -210
    },
    "id": "t6wgWP9Dajzx"
   },
   "outputs": [],
   "source": [
    "dataset= dataset[\"train\"].train_test_split(test_size=0.2)"
   ]
  },
  {
   "cell_type": "code",
   "execution_count": 10,
   "metadata": {
    "colab": {
     "base_uri": "https://localhost:8080/"
    },
    "executionInfo": {
     "elapsed": 4,
     "status": "ok",
     "timestamp": 1734098491683,
     "user": {
      "displayName": "Arian ghaderi",
      "userId": "07749721859380516600"
     },
     "user_tz": -210
    },
    "id": "eJ2F-rl9bBZc",
    "outputId": "ff77f686-d908-4b64-88d2-9b81fef5e67d"
   },
   "outputs": [
    {
     "data": {
      "text/plain": [
       "DatasetDict({\n",
       "    train: Dataset({\n",
       "        features: ['comment', 'rate'],\n",
       "        num_rows: 55863\n",
       "    })\n",
       "    test: Dataset({\n",
       "        features: ['comment', 'rate'],\n",
       "        num_rows: 13966\n",
       "    })\n",
       "})"
      ]
     },
     "execution_count": 10,
     "metadata": {},
     "output_type": "execute_result"
    }
   ],
   "source": [
    "dataset"
   ]
  },
  {
   "cell_type": "code",
   "execution_count": 11,
   "metadata": {
    "colab": {
     "base_uri": "https://localhost:8080/"
    },
    "executionInfo": {
     "elapsed": 6,
     "status": "ok",
     "timestamp": 1734098495375,
     "user": {
      "displayName": "Arian ghaderi",
      "userId": "07749721859380516600"
     },
     "user_tz": -210
    },
    "id": "cIE0MRGTbItY",
    "outputId": "3238237d-ec52-48fe-eebc-a7adee814dc8"
   },
   "outputs": [
    {
     "data": {
      "text/plain": [
       "{'comment': 'گذشته از اینکه خوانش کتاب مانند سایر کارهای آرمان سلطان زاده خوب بود، خود کتاب، یک ضد کتاب واقعیست! یکی از بدترین و جهت دارترین کتاب هایی بود که تا به امروز دیده ام. حتی کلمه فلسفه رو هم در عنوانش به همراه داشت ولی ذره ای خرد و اندیشه درش نبود، صرفا نگاه تماما جهت دار مولف که اساسا امکان تفکر را از خواننده سلب کرده و نه تنها اگاهی نمی دهد که ضد آگاهی در خود دارد.',\n",
       " 'rate': 1.0}"
      ]
     },
     "execution_count": 11,
     "metadata": {},
     "output_type": "execute_result"
    }
   ],
   "source": [
    "dataset[\"train\"][0]"
   ]
  },
  {
   "cell_type": "code",
   "execution_count": 12,
   "metadata": {
    "colab": {
     "base_uri": "https://localhost:8080/"
    },
    "executionInfo": {
     "elapsed": 413,
     "status": "ok",
     "timestamp": 1734098497987,
     "user": {
      "displayName": "Arian ghaderi",
      "userId": "07749721859380516600"
     },
     "user_tz": -210
    },
    "id": "ZNKRbvvQbr_e",
    "outputId": "8af95419-154e-4109-e47a-3cabc703744b"
   },
   "outputs": [
    {
     "name": "stdout",
     "output_type": "stream",
     "text": [
      "first comment: گذشته از اینکه خوانش کتاب مانند سایر کارهای آرمان سلطان زاده خوب بود، خود کتاب، یک ضد کتاب واقعیست! یکی از بدترین و جهت دارترین کتاب هایی بود که تا به امروز دیده ام. حتی کلمه فلسفه رو هم در عنوانش به همراه داشت ولی ذره ای خرد و اندیشه درش نبود، صرفا نگاه تماما جهت دار مولف که اساسا امکان تفکر را از خواننده سلب کرده و نه تنها اگاهی نمی دهد که ضد آگاهی در خود دارد.\n",
      "its rate: 1.0\n"
     ]
    }
   ],
   "source": [
    "print(f\"first comment: {dataset['train'][0]['comment']}\\nits rate: {dataset['train'][0]['rate']}\")"
   ]
  },
  {
   "cell_type": "code",
   "execution_count": 13,
   "metadata": {
    "colab": {
     "base_uri": "https://localhost:8080/"
    },
    "executionInfo": {
     "elapsed": 6,
     "status": "ok",
     "timestamp": 1734098499638,
     "user": {
      "displayName": "Arian ghaderi",
      "userId": "07749721859380516600"
     },
     "user_tz": -210
    },
    "id": "qVAVvNehcbH9",
    "outputId": "878019e6-2751-4a7c-854b-018ab68d0aa8"
   },
   "outputs": [
    {
     "data": {
      "text/plain": [
       "{'comment': ['گذشته از اینکه خوانش کتاب مانند سایر کارهای آرمان سلطان زاده خوب بود، خود کتاب، یک ضد کتاب واقعیست! یکی از بدترین و جهت دارترین کتاب هایی بود که تا به امروز دیده ام. حتی کلمه فلسفه رو هم در عنوانش به همراه داشت ولی ذره ای خرد و اندیشه درش نبود، صرفا نگاه تماما جهت دار مولف که اساسا امکان تفکر را از خواننده سلب کرده و نه تنها اگاهی نمی دهد که ضد آگاهی در خود دارد.',\n",
       "  'بنظرم واقعا بین اینهمه کتاب\\u200c فاخر دفاع مقدس، اصلا نه نوشتار خوبی داره نه آدمو جذب میکنه. نه سر داره نه ته...\\nنه حتی اوج و هیجان.',\n",
       "  'خیلی کتاب جالبی بوود',\n",
       "  '😍😍',\n",
       "  'عالی بود.. از اول تا اخرشو با لهجه شیرین اصفهانی خوندم'],\n",
       " 'rate': [1.0, 1.0, 5.0, 5.0, 5.0]}"
      ]
     },
     "execution_count": 13,
     "metadata": {},
     "output_type": "execute_result"
    }
   ],
   "source": [
    "dataset[\"train\"][0:5]"
   ]
  },
  {
   "cell_type": "code",
   "execution_count": 11,
   "metadata": {
    "colab": {
     "base_uri": "https://localhost:8080/",
     "height": 81,
     "referenced_widgets": [
      "392fef64999c4ecdb1f4812baeadb2e4",
      "84f4ac3468c948bba2cb6c3d69add116",
      "06f2f6f50d9149a19004d01494895931",
      "c491472ea259457bb91c476a642ca6f9",
      "f75f0126d18b42ab8410cd52e62c569b",
      "65105428e8cf49a78ffc3ea686c0107f",
      "411f57553c5f4390a74aedaf33443e3e",
      "4acabd31b073460cbd72778a83d24530",
      "7c067186ae54414e8e4b54d88a8c318b",
      "4a11aacfc98e497785c8a8fc9b0cd79d",
      "2c6f3d3a70e84c8ab5a83187ad0e398f",
      "aece9a5bf1dc4b5c930162f6b63a14e1",
      "fb619b389bfd4c44bf622283fcea8f4b",
      "3dc815dd499b4c099a78d921f8d8a6f2",
      "388b42b6302c4e42bce77742c8e9f71f",
      "e81b402c2b7743708425c68792ca650d",
      "9f11999a3d684b56be665cd4ad4121d2",
      "c605ea194a7e4112918b226e04e99025",
      "bff3a97ffcdb48c4bd4ab3047cad6ef4",
      "5d8ef477f36b47c6b0276d0cdf787866",
      "b2609a43b69e41e7a1ef9d95dead6491",
      "7fa55f2fed4347c19c3cd03b118a92e5"
     ]
    },
    "collapsed": true,
    "executionInfo": {
     "elapsed": 4650,
     "status": "ok",
     "timestamp": 1734098352021,
     "user": {
      "displayName": "Arian ghaderi",
      "userId": "07749721859380516600"
     },
     "user_tz": -210
    },
    "id": "b-uGrkxDdB81",
    "outputId": "a8097ea8-fb5a-4b5b-c21e-d31ed4151449"
   },
   "outputs": [
    {
     "data": {
      "application/vnd.jupyter.widget-view+json": {
       "model_id": "392fef64999c4ecdb1f4812baeadb2e4",
       "version_major": 2,
       "version_minor": 0
      },
      "text/plain": [
       "Saving the dataset (0/1 shards):   0%|          | 0/55863 [00:00<?, ? examples/s]"
      ]
     },
     "metadata": {},
     "output_type": "display_data"
    },
    {
     "data": {
      "application/vnd.jupyter.widget-view+json": {
       "model_id": "aece9a5bf1dc4b5c930162f6b63a14e1",
       "version_major": 2,
       "version_minor": 0
      },
      "text/plain": [
       "Saving the dataset (0/1 shards):   0%|          | 0/13966 [00:00<?, ? examples/s]"
      ]
     },
     "metadata": {},
     "output_type": "display_data"
    }
   ],
   "source": [
    "dataset.save_to_disk(\"/content/drive/MyDrive/Colab Notebooks/data/taghche_dataset\")"
   ]
  },
  {
   "cell_type": "code",
   "execution_count": 14,
   "metadata": {
    "executionInfo": {
     "elapsed": 268,
     "status": "ok",
     "timestamp": 1734098502363,
     "user": {
      "displayName": "Arian ghaderi",
      "userId": "07749721859380516600"
     },
     "user_tz": -210
    },
    "id": "kx4XXWIyde6t"
   },
   "outputs": [],
   "source": [
    "from datasets import load_from_disk\n",
    "dataset= load_from_disk(\"/content/drive/MyDrive/Colab Notebooks/data/taghche_dataset\")"
   ]
  },
  {
   "cell_type": "code",
   "execution_count": 15,
   "metadata": {
    "executionInfo": {
     "elapsed": 295,
     "status": "ok",
     "timestamp": 1734098504067,
     "user": {
      "displayName": "Arian ghaderi",
      "userId": "07749721859380516600"
     },
     "user_tz": -210
    },
    "id": "pfUYoD7hd575"
   },
   "outputs": [],
   "source": [
    "sampel_data= dataset['train'].select(range(20))"
   ]
  },
  {
   "cell_type": "code",
   "execution_count": 16,
   "metadata": {
    "colab": {
     "base_uri": "https://localhost:8080/"
    },
    "executionInfo": {
     "elapsed": 6,
     "status": "ok",
     "timestamp": 1734098505429,
     "user": {
      "displayName": "Arian ghaderi",
      "userId": "07749721859380516600"
     },
     "user_tz": -210
    },
    "id": "vqiLGrLZeQfN",
    "outputId": "878ecf9f-ca5b-4dc2-9fa4-f2966f281043"
   },
   "outputs": [
    {
     "data": {
      "text/plain": [
       "['تا نصفشو خوندم.بدیهیاتی که نه نقض میشن و نه اثبات رو برای نقضش امکان قرار داده شده.تو خود کتاب هم چندجا ضد و نقیض صحبت شده..\\nگذاشتمش کنار!',\n",
       " 'چقدر خوبه که یه نویسنده جواب همه پیام ها رو میده،من هنوز کتاب رو نخوندم ،ولی این کار باعث شد در اولین فرصت کتاب رو بخونم',\n",
       " 'نمونه اش فوق العاده بود میخرمش حتما 😍😘😚😙😗',\n",
       " 'این نوع سبک شعر رو خیلی دوست دارم.',\n",
       " 'چرا اینقدر نسخه الکترونیکی گرون خب ۵۰۰دیگه میدم همیشم دارمش',\n",
       " 'با سلام ببخشید یک سوال چرا  اکثریت کتاب ها خریدنی است ؟ تعداد خیلی کمی رایگان هست ؟',\n",
       " 'بلاخره آرزوی من برآورده شد! خیلی دلم می خواست داستان ها وکتاب های استاد سلمان باهنر را در طاقچه موجود کنند. سلمان خان از بهترین نویسندگان و کارگردان های انیمیشن ایرانیست.در نجف آباد اصفهان متولد شدند. یک مجموعه داستان 13 داستانی رئالیسم جادویی و سورئال دارند به نام سی و سه پل، چهارونیم اکتاو. تاحالا ده بار این مجموعه داستان رو خوندم و لذت بردم. متین میرجانی',\n",
       " 'یه تاریخچه ای از نویسنده\\nچندتا نقد\\nچند فصل نمونه\\nو ناشر و مترجم و تعداد تیراژ\\nو البته میزان هزینه ای که صرف تبلیغش شده\\nقبل خوندن کتاب، بررسی این چندتا مورد خیلی اطلاعات بهت میده.\\nاینجا پر شده از آدمایی که یه مو تو غذا ببینن هزاربار نمایشی و واقعی عق میزنن، ولی روی غذای روحشون هیچ حساسیت و محدودیتی ندارن\\nیه وقت به اینا نگید تو غذای روحشون مو دیدین ها ! چون اولا خیلی با ذهن باز و بی تعصب تغذیه میکنن هم نهایتا اینه که شروع میکنن به...',\n",
       " 'خیلی خوبه',\n",
       " 'البته نسخه کاملش']"
      ]
     },
     "execution_count": 16,
     "metadata": {},
     "output_type": "execute_result"
    }
   ],
   "source": [
    "sampel_data['comment'][0:10]"
   ]
  },
  {
   "cell_type": "code",
   "execution_count": 17,
   "metadata": {
    "colab": {
     "base_uri": "https://localhost:8080/"
    },
    "collapsed": true,
    "executionInfo": {
     "elapsed": 5317,
     "status": "ok",
     "timestamp": 1734098513887,
     "user": {
      "displayName": "Arian ghaderi",
      "userId": "07749721859380516600"
     },
     "user_tz": -210
    },
    "id": "ZinY4sbye9aU",
    "outputId": "46ceb5ae-6921-45cf-a986-2c578ed0df17"
   },
   "outputs": [
    {
     "name": "stderr",
     "output_type": "stream",
     "text": [
      "/usr/local/lib/python3.10/dist-packages/torch_xla/__init__.py:253: UserWarning: `tensorflow` can conflict with `torch-xla`. Prefer `tensorflow-cpu` when using PyTorch/XLA. To silence this warning, `pip uninstall -y tensorflow && pip install tensorflow-cpu`. If you are in a notebook environment such as Colab or Kaggle, restart your notebook runtime afterwards.\n",
      "  warnings.warn(\n",
      "/usr/local/lib/python3.10/dist-packages/huggingface_hub/utils/_auth.py:94: UserWarning: \n",
      "The secret `HF_TOKEN` does not exist in your Colab secrets.\n",
      "To authenticate with the Hugging Face Hub, create a token in your settings tab (https://huggingface.co/settings/tokens), set it as secret in your Google Colab and restart your session.\n",
      "You will be able to reuse this secret in all of your notebooks.\n",
      "Please note that authentication is recommended but still optional to access public models or datasets.\n",
      "  warnings.warn(\n"
     ]
    }
   ],
   "source": [
    "from transformers import AutoTokenizer\n",
    "#https://huggingface.co/bert-fa-base-uncased\n",
    "tokenizer=AutoTokenizer.from_pretrained(\"HooshvareLab/bert-fa-base-uncased\")"
   ]
  },
  {
   "cell_type": "code",
   "execution_count": 18,
   "metadata": {
    "executionInfo": {
     "elapsed": 336,
     "status": "ok",
     "timestamp": 1734098518506,
     "user": {
      "displayName": "Arian ghaderi",
      "userId": "07749721859380516600"
     },
     "user_tz": -210
    },
    "id": "Ivq7x9xTi0tf"
   },
   "outputs": [],
   "source": [
    "train_data= dataset['train']\n",
    "test_data= dataset['test']"
   ]
  },
  {
   "cell_type": "code",
   "execution_count": 19,
   "metadata": {
    "executionInfo": {
     "elapsed": 401,
     "status": "ok",
     "timestamp": 1734098521195,
     "user": {
      "displayName": "Arian ghaderi",
      "userId": "07749721859380516600"
     },
     "user_tz": -210
    },
    "id": "3k3tSlPKjOyS"
   },
   "outputs": [],
   "source": [
    "def preprocess_input(text):\n",
    "  if text is not None:\n",
    "    text=text.replace('\\n',' ')\n",
    "  return text"
   ]
  },
  {
   "cell_type": "code",
   "execution_count": 20,
   "metadata": {
    "colab": {
     "base_uri": "https://localhost:8080/",
     "height": 36
    },
    "executionInfo": {
     "elapsed": 18,
     "status": "ok",
     "timestamp": 1734098522193,
     "user": {
      "displayName": "Arian ghaderi",
      "userId": "07749721859380516600"
     },
     "user_tz": -210
    },
    "id": "wYvEn47RjPHI",
    "outputId": "1ff8e7ce-d8f3-4f9c-c407-e11e6574b1ad"
   },
   "outputs": [
    {
     "data": {
      "application/vnd.google.colaboratory.intrinsic+json": {
       "type": "string"
      },
      "text/plain": [
       "'تا نصفشو خوندم.بدیهیاتی که نه نقض میشن و نه اثبات رو برای نقضش امکان قرار داده شده.تو خود کتاب هم چندجا ضد و نقیض صحبت شده.. گذاشتمش کنار!'"
      ]
     },
     "execution_count": 20,
     "metadata": {},
     "output_type": "execute_result"
    }
   ],
   "source": [
    "procassed_comment=[preprocess_input(text) for text in sampel_data['comment']]\n",
    "\n",
    "procassed_comment[0]"
   ]
  },
  {
   "cell_type": "code",
   "execution_count": null,
   "metadata": {
    "collapsed": true,
    "id": "K-tIV05Qk8Ws"
   },
   "outputs": [],
   "source": [
    "!pip install hazm\n",
    "!pip install clean-text"
   ]
  },
  {
   "cell_type": "code",
   "execution_count": null,
   "metadata": {
    "colab": {
     "base_uri": "https://localhost:8080/"
    },
    "executionInfo": {
     "elapsed": 5040,
     "status": "ok",
     "timestamp": 1734098462224,
     "user": {
      "displayName": "Arian ghaderi",
      "userId": "07749721859380516600"
     },
     "user_tz": -210
    },
    "id": "vGyfNg1PlS5z",
    "outputId": "ec675587-3bdd-4814-d42d-b195d401a254"
   },
   "outputs": [
    {
     "name": "stderr",
     "output_type": "stream",
     "text": [
      "WARNING:root:Since the GPL-licensed package `unidecode` is not installed, using Python's `unicodedata` package which yields worse results.\n"
     ]
    }
   ],
   "source": [
    "import re           \n",
    "import hazm\n",
    "from cleantext import clean"
   ]
  },
  {
   "cell_type": "code",
   "execution_count": null,
   "metadata": {
    "executionInfo": {
     "elapsed": 7,
     "status": "ok",
     "timestamp": 1734098462224,
     "user": {
      "displayName": "Arian ghaderi",
      "userId": "07749721859380516600"
     },
     "user_tz": -210
    },
    "id": "d2CME33VlpJp"
   },
   "outputs": [],
   "source": [
    "def cleanhtml(rw_html):\n",
    " \n",
    "\n",
    "  cleaner=re.compile('<.*?>')\n",
    "  cleantext=re.sub(cleaner,'',rw_html)\n",
    "  return cleantext\n",
    "\n",
    "\n",
    "def cleaning(text):\n",
    "  text.strip()\n",
    "\n",
    "  \"\"\"\n",
    "  fix_unicode=True اطلاح مشکلات احتمالی در کدگذاری یونیکد (مانند تبدیل کاراکتر های خاص به فرم مناسب)\n",
    "\n",
    "  to_asci=False: تبدیل کردن به اسکی کد در صورت ترو بودن\n",
    "\n",
    "  lower=True متن را به حروف کوچک تبدیل میکند\n",
    "\n",
    "  no_line_breks=True تمام خطوط جدید و شکستن های خط را حذف میکند\n",
    "\n",
    "  no_urls=True تمام یو ار ال ها را از متن حذف میکند\n",
    "\n",
    "  no_emales=True ادرس های ایمل را حذف میکند\n",
    "\n",
    "  no_phone_numbers=True شماره های تلفن را از متن حذف میکند\n",
    "\n",
    "  no_numbers=False عدد را نگه میدارد اگر ترو بود عدد ها حذف میشدند\n",
    "\n",
    "  no_digits=False رقم ها (کاراکتر های عددی ) را نگه میدارد اگه ترو بود حذف میکرد\n",
    "\n",
    "  no_currency_symbols=True نماد های ارزی مانند دلار و یورو ($و..) را حذف میکند\n",
    "\n",
    "  no_punct=False علامت های نگارشی را نگه میدارد اگه ترو بود حذف میکرد\n",
    "\n",
    "  replace_with_urls=\"\" یو ار ال را با یک رشته خالی جایگزین میکند\n",
    "\n",
    "  replace_with_emales=\"\" ایمیل را با یک رشته خالی جایگزین میکند\n",
    "\n",
    "  replace_with_phone_numbers=\"\" شماره های تلفن را با یک رشته خالی جایگزین میکند\n",
    "\n",
    "  replace_with_numbers=0  رقم ها را با 0 جایگزین میکند\n",
    "\n",
    "  replace_with_digits=\"\" نماد های ارز را با یک رشته خالی جایگزین میکند\n",
    "\n",
    "\n",
    "  \"\"\"\n",
    "\n",
    "\n",
    "\n",
    "  #regular cleaning\n",
    "  text=clean(text,\n",
    "             fix_unicode=True,\n",
    "             to_asci=False,\n",
    "             lower=True,\n",
    "             no_line_breks=True,\n",
    "             no_urls=True,\n",
    "             no_emales=True,\n",
    "             no_phone_numbers=True ,\n",
    "             no_numbers=False,\n",
    "             no_digits=False,\n",
    "             no_currency_symbols=True,\n",
    "             no_punct=False,\n",
    "             replace_with_urls=\"\",\n",
    "             replace_with_emales=\"\",\n",
    "             replace_with_phone_numbers=\"\",\n",
    "             replace_with_numbers=0 ,\n",
    "             replace_with_digits=\"\"\n",
    "             )\n",
    "\n",
    "\n",
    "\n",
    "  #normalizing\n",
    "  \"\"\"\n",
    "  تبدیل نویسه ها: مثلا تبدیل انواع مختلف حرف ی  و ک  به یک فرم استاندارد\n",
    "  حذف نیم فاصله های غیر ضروری: نیم فاصله در زبان فارسی برای اتصال کلمات به کار میروند اما گاهی نیم فاصله های اضافی وجود دارند که باید حذف شوند\n",
    "  اصلاح فاصله ها: افزودن یا حذف قاصله بین کلمات و علائم نگارشی به صورت صحیح\n",
    "  تبدیل اعداد فارسی و عربی: اعداد فارسی و عربی ممکن است به فرم استاندارد تبدیل شوند\n",
    "\n",
    "  \"\"\"\n",
    "\n",
    "  normalizer=hazm.Normalizer()\n",
    "  text=normalizer.normalize(text)\n",
    "\n",
    "\n"
   ]
  },
  {
   "cell_type": "code",
   "execution_count": 21,
   "metadata": {
    "executionInfo": {
     "elapsed": 290,
     "status": "ok",
     "timestamp": 1734098533316,
     "user": {
      "displayName": "Arian ghaderi",
      "userId": "07749721859380516600"
     },
     "user_tz": -210
    },
    "id": "XRwy0YDc7_aR"
   },
   "outputs": [],
   "source": [
    "sampled_test= test_data.select(range(10))"
   ]
  },
  {
   "cell_type": "code",
   "execution_count": 22,
   "metadata": {
    "colab": {
     "base_uri": "https://localhost:8080/"
    },
    "executionInfo": {
     "elapsed": 444,
     "status": "ok",
     "timestamp": 1734098535272,
     "user": {
      "displayName": "Arian ghaderi",
      "userId": "07749721859380516600"
     },
     "user_tz": -210
    },
    "id": "4MzAH9PO8rzA",
    "outputId": "f42238b3-e76e-4357-ac57-db992d5eb4af"
   },
   "outputs": [
    {
     "data": {
      "text/plain": [
       "{1.0, 2.0, 3.0, 5.0}"
      ]
     },
     "execution_count": 22,
     "metadata": {},
     "output_type": "execute_result"
    }
   ],
   "source": [
    "set(sampel_data['rate'])"
   ]
  },
  {
   "cell_type": "code",
   "execution_count": 23,
   "metadata": {
    "colab": {
     "base_uri": "https://localhost:8080/"
    },
    "executionInfo": {
     "elapsed": 568,
     "status": "ok",
     "timestamp": 1734098537652,
     "user": {
      "displayName": "Arian ghaderi",
      "userId": "07749721859380516600"
     },
     "user_tz": -210
    },
    "id": "fGv1Kvl_8xlh",
    "outputId": "d5183306-ca1f-47ad-971e-ff801334e224"
   },
   "outputs": [
    {
     "data": {
      "text/plain": [
       "{1.0, 4.0, 5.0}"
      ]
     },
     "execution_count": 23,
     "metadata": {},
     "output_type": "execute_result"
    }
   ],
   "source": [
    "set(sampled_test['rate'])"
   ]
  },
  {
   "cell_type": "code",
   "execution_count": 24,
   "metadata": {
    "executionInfo": {
     "elapsed": 3,
     "status": "ok",
     "timestamp": 1734098538758,
     "user": {
      "displayName": "Arian ghaderi",
      "userId": "07749721859380516600"
     },
     "user_tz": -210
    },
    "id": "UjLTGyvH82K2"
   },
   "outputs": [],
   "source": [
    "def map_function(batch):\n",
    "  processed_comment=[text for text in batch['comment']]\n",
    "\n",
    "  return tokenizer(processed_comment,truncation=True)"
   ]
  },
  {
   "cell_type": "code",
   "execution_count": null,
   "metadata": {
    "colab": {
     "base_uri": "https://localhost:8080/",
     "height": 86,
     "referenced_widgets": [
      "ff40be2718b64678a0330ecb4d1d9721",
      "49ee1787f6bf4beaac1a886ba0cea47a",
      "a9470ebfb0ab4a529a11aed6994401ad",
      "bc9d66f6bf6f42debeff3dc6afd1d1b3",
      "82bd510cbc454829b2aa90fbdb210ca5",
      "68ef659a800a4d968cee536287785eed",
      "ec5b1ed12f6a40e4af04cbe60d233ac6",
      "a6b27845d586486ba158f1b0a0c630a8",
      "c854599d8dae4b53a8b456b247ef5e0d",
      "131a0791cfe348728bedac9e3244ab17",
      "957e6913468543de8e061b1c7385aaa7"
     ]
    },
    "executionInfo": {
     "elapsed": 420,
     "status": "ok",
     "timestamp": 1734098540981,
     "user": {
      "displayName": "Arian ghaderi",
      "userId": "07749721859380516600"
     },
     "user_tz": -210
    },
    "id": "zX4XYGx49UGP",
    "outputId": "733ec5d1-7bba-436a-b2fc-1179ab898efe"
   },
   "outputs": [
    {
     "data": {
      "application/vnd.jupyter.widget-view+json": {
       "model_id": "ff40be2718b64678a0330ecb4d1d9721",
       "version_major": 2,
       "version_minor": 0
      },
      "text/plain": [
       "Map:   0%|          | 0/10 [00:00<?, ? examples/s]"
      ]
     },
     "metadata": {},
     "output_type": "display_data"
    },
    {
     "name": "stderr",
     "output_type": "stream",
     "text": [
      "Asking to truncate to max_length but no maximum length is provided and the model has no predefined maximum length. Default to no truncation.\n"
     ]
    }
   ],
   "source": [
    "sampled_test= sampled_test.map(map_function,batched=True)"
   ]
  },
  {
   "cell_type": "code",
   "execution_count": 26,
   "metadata": {
    "executionInfo": {
     "elapsed": 293,
     "status": "ok",
     "timestamp": 1734098543570,
     "user": {
      "displayName": "Arian ghaderi",
      "userId": "07749721859380516600"
     },
     "user_tz": -210
    },
    "id": "hp2StlS_-ysa"
   },
   "outputs": [],
   "source": [
    "def cast_labels(label):\n",
    "  if label==1:\n",
    "    return 0\n",
    "  elif label==2:\n",
    "    return 1\n",
    "  elif label==3:\n",
    "    return 2\n",
    "  elif label==4:\n",
    "    return 3\n",
    "  elif label==5:\n",
    "    return 4\n",
    "  else:\n",
    "    return 0\n",
    "\n",
    "\n",
    "\n",
    "\n",
    "\n",
    "def map_function2(batch):\n",
    "  casted_rate=[cast_labels(rate) for rate in batch['rate']]\n",
    "\n",
    "  return {'rate': casted_rate}"
   ]
  },
  {
   "cell_type": "code",
   "execution_count": 27,
   "metadata": {
    "colab": {
     "base_uri": "https://localhost:8080/",
     "height": 49,
     "referenced_widgets": [
      "174c2490dead4c81b9df4927c88a97e7",
      "d09a7af48d404a468c5abb128f5dec13",
      "4bde4e917e654ae9ad2843776486b66c",
      "d4bff11959aa49d192c20cc1304735bb",
      "b7ab5129ec834613960397d5c082d243",
      "e4feca7b4ef6469fa7777fa68b410bf0",
      "66a80ccbe88b46c381bb331e9525e1de",
      "d8c75771aa234c14abcd55e5803ee876",
      "7354ae46842f4d40a9dd63f210fd7bf8",
      "bdad5eb947164a83bd93cf75052289d6",
      "663c85e9c86f497eb0cd2e311f8ca1d9"
     ]
    },
    "executionInfo": {
     "elapsed": 10,
     "status": "ok",
     "timestamp": 1734098546230,
     "user": {
      "displayName": "Arian ghaderi",
      "userId": "07749721859380516600"
     },
     "user_tz": -210
    },
    "id": "vmh70QloAQC3",
    "outputId": "ca160269-cdb0-4f92-f4a2-0d8a57b10330"
   },
   "outputs": [
    {
     "data": {
      "application/vnd.jupyter.widget-view+json": {
       "model_id": "174c2490dead4c81b9df4927c88a97e7",
       "version_major": 2,
       "version_minor": 0
      },
      "text/plain": [
       "Map:   0%|          | 0/10 [00:00<?, ? examples/s]"
      ]
     },
     "metadata": {},
     "output_type": "display_data"
    }
   ],
   "source": [
    "sampled_test=sampled_test.map(map_function2,batched=True)"
   ]
  },
  {
   "cell_type": "code",
   "execution_count": 28,
   "metadata": {
    "colab": {
     "base_uri": "https://localhost:8080/",
     "height": 49,
     "referenced_widgets": [
      "613ecdf0e4d2429ba1396d84cbab689c",
      "6daff9caeef7470ab6eec86772398461",
      "35511754fbcc424abb34bfd3559ef9b2",
      "94a3ab29ff6e48a294377e29e1241abc",
      "ec8091ab01ec4877a0ee2261e4d9b112",
      "bace08ac0af04fcabea32030fbf80a5e",
      "8d58715ade054404a119aa3645f1e172",
      "6372d5bcd7dd4d67add4ecbe6c84eee3",
      "6e28aece35664b0ab11a30a5d4615349",
      "5df464631a1e48ac9ea1dd4a37a84e24",
      "58c77f49a0e048bab4e68065c0593789"
     ]
    },
    "executionInfo": {
     "elapsed": 279,
     "status": "ok",
     "timestamp": 1734098548469,
     "user": {
      "displayName": "Arian ghaderi",
      "userId": "07749721859380516600"
     },
     "user_tz": -210
    },
    "id": "R1gKoqQtAiDz",
    "outputId": "1c252ebb-1b79-4b21-bf60-bd17ba4f2890"
   },
   "outputs": [
    {
     "data": {
      "application/vnd.jupyter.widget-view+json": {
       "model_id": "613ecdf0e4d2429ba1396d84cbab689c",
       "version_major": 2,
       "version_minor": 0
      },
      "text/plain": [
       "Map:   0%|          | 0/20 [00:00<?, ? examples/s]"
      ]
     },
     "metadata": {},
     "output_type": "display_data"
    }
   ],
   "source": [
    "sampel_data=sampel_data.map(map_function2,batched=True)"
   ]
  },
  {
   "cell_type": "code",
   "execution_count": 29,
   "metadata": {
    "colab": {
     "base_uri": "https://localhost:8080/"
    },
    "executionInfo": {
     "elapsed": 380,
     "status": "ok",
     "timestamp": 1734098552054,
     "user": {
      "displayName": "Arian ghaderi",
      "userId": "07749721859380516600"
     },
     "user_tz": -210
    },
    "id": "ojEWyNbZAzAz",
    "outputId": "f3ecab70-31a0-4ecb-cad3-2e2e9f7b2e4b"
   },
   "outputs": [
    {
     "data": {
      "text/plain": [
       "{0.0, 1.0, 2.0, 4.0}"
      ]
     },
     "execution_count": 29,
     "metadata": {},
     "output_type": "execute_result"
    }
   ],
   "source": [
    "set(sampel_data['rate'])"
   ]
  },
  {
   "cell_type": "code",
   "execution_count": 30,
   "metadata": {
    "colab": {
     "base_uri": "https://localhost:8080/"
    },
    "executionInfo": {
     "elapsed": 11,
     "status": "ok",
     "timestamp": 1734098553238,
     "user": {
      "displayName": "Arian ghaderi",
      "userId": "07749721859380516600"
     },
     "user_tz": -210
    },
    "id": "QLlPqyu1A242",
    "outputId": "da1ae515-fdd3-44e5-e4c2-2f2acc51e0dc"
   },
   "outputs": [
    {
     "data": {
      "text/plain": [
       "{0.0, 3.0, 4.0}"
      ]
     },
     "execution_count": 30,
     "metadata": {},
     "output_type": "execute_result"
    }
   ],
   "source": [
    "set(sampled_test['rate'])"
   ]
  },
  {
   "cell_type": "code",
   "execution_count": 31,
   "metadata": {
    "executionInfo": {
     "elapsed": 7,
     "status": "ok",
     "timestamp": 1734098554760,
     "user": {
      "displayName": "Arian ghaderi",
      "userId": "07749721859380516600"
     },
     "user_tz": -210
    },
    "id": "GdlVyjGCClxT"
   },
   "outputs": [],
   "source": [
    "rates=sampel_data['rate']"
   ]
  },
  {
   "cell_type": "code",
   "execution_count": 32,
   "metadata": {
    "colab": {
     "base_uri": "https://localhost:8080/"
    },
    "executionInfo": {
     "elapsed": 4,
     "status": "ok",
     "timestamp": 1734098555896,
     "user": {
      "displayName": "Arian ghaderi",
      "userId": "07749721859380516600"
     },
     "user_tz": -210
    },
    "id": "ClP0ysnhCsNh",
    "outputId": "1569a012-9257-4b44-a14a-0710beb6f94a"
   },
   "outputs": [
    {
     "name": "stdout",
     "output_type": "stream",
     "text": [
      "[1.0, 4.0, 4.0, 4.0, 0.0, 1.0, 4.0, 4.0, 4.0, 4.0, 0.0, 4.0, 4.0, 4.0, 0.0, 1.0, 4.0, 2.0, 4.0, 2.0]\n"
     ]
    }
   ],
   "source": [
    "print(rates)"
   ]
  },
  {
   "cell_type": "code",
   "execution_count": 33,
   "metadata": {
    "executionInfo": {
     "elapsed": 8,
     "status": "ok",
     "timestamp": 1734098557441,
     "user": {
      "displayName": "Arian ghaderi",
      "userId": "07749721859380516600"
     },
     "user_tz": -210
    },
    "id": "jpJi_KMFBJ4N"
   },
   "outputs": [],
   "source": [
    "label2id= {label: i for i,label in enumerate(rates)}\n",
    "id2label= {value:key for key,value in label2id.items()}"
   ]
  },
  {
   "cell_type": "code",
   "execution_count": 34,
   "metadata": {
    "colab": {
     "base_uri": "https://localhost:8080/"
    },
    "executionInfo": {
     "elapsed": 433,
     "status": "ok",
     "timestamp": 1734098559082,
     "user": {
      "displayName": "Arian ghaderi",
      "userId": "07749721859380516600"
     },
     "user_tz": -210
    },
    "id": "4lQAgVI4CwYI",
    "outputId": "79c6588d-5ba3-4453-9eb0-98920f2ffbbe"
   },
   "outputs": [
    {
     "data": {
      "text/plain": [
       "{1.0: 15, 4.0: 18, 0.0: 14, 2.0: 19}"
      ]
     },
     "execution_count": 34,
     "metadata": {},
     "output_type": "execute_result"
    }
   ],
   "source": [
    "label2id"
   ]
  },
  {
   "cell_type": "code",
   "execution_count": 35,
   "metadata": {
    "colab": {
     "base_uri": "https://localhost:8080/"
    },
    "executionInfo": {
     "elapsed": 316,
     "status": "ok",
     "timestamp": 1734098560724,
     "user": {
      "displayName": "Arian ghaderi",
      "userId": "07749721859380516600"
     },
     "user_tz": -210
    },
    "id": "BixIe0QRC2Su",
    "outputId": "cf8bcdc2-c064-4d3e-b595-a9b643a17ac0"
   },
   "outputs": [
    {
     "data": {
      "text/plain": [
       "{15: 1.0, 18: 4.0, 14: 0.0, 19: 2.0}"
      ]
     },
     "execution_count": 35,
     "metadata": {},
     "output_type": "execute_result"
    }
   ],
   "source": [
    "id2label"
   ]
  },
  {
   "cell_type": "code",
   "execution_count": null,
   "metadata": {
    "collapsed": true,
    "id": "cZSdzBwJDx4j"
   },
   "outputs": [],
   "source": [
    "from transformers import AutoModelForSequenceClassification, TrainingArguments, Trainer\n",
    "\n",
    "model=AutoModelForSequenceClassification.from_pretrained(\"HooshvareLab/bert-fa-base-uncased\",num_labels=5,\n",
    "                                                         id2label=id2label, label2id=label2id)"
   ]
  },
  {
   "cell_type": "code",
   "execution_count": 42,
   "metadata": {
    "executionInfo": {
     "elapsed": 609,
     "status": "ok",
     "timestamp": 1734095639574,
     "user": {
      "displayName": "Arian ghaderi",
      "userId": "07749721859380516600"
     },
     "user_tz": -210
    },
    "id": "Ucz3r4GXIZbh"
   },
   "outputs": [],
   "source": [
    "!mkdir my_awesome_model"
   ]
  },
  {
   "cell_type": "code",
   "execution_count": null,
   "metadata": {
    "colab": {
     "base_uri": "https://localhost:8080/"
    },
    "executionInfo": {
     "elapsed": 321,
     "status": "ok",
     "timestamp": 1734097718009,
     "user": {
      "displayName": "Arian ghaderi",
      "userId": "07749721859380516600"
     },
     "user_tz": -210
    },
    "id": "hYTGpHk5Fqdv",
    "outputId": "f367655e-6dbd-43f6-9e68-164bbfb7b8a4"
   },
   "outputs": [
    {
     "name": "stderr",
     "output_type": "stream",
     "text": [
      "/usr/local/lib/python3.10/dist-packages/transformers/training_args.py:1568: FutureWarning: `evaluation_strategy` is deprecated and will be removed in version 4.46 of 🤗 Transformers. Use `eval_strategy` instead\n",
      "  warnings.warn(\n"
     ]
    }
   ],
   "source": [
    "training_args= TrainingArguments(\n",
    "    output_dir=\"my_awesome_model\",      \n",
    "    learning_rate=2e-5,                     \n",
    "    per_device_train_batch_size=16,         \n",
    "    per_device_eval_batch_size=16,    \n",
    "    num_train_epochs=1,           \n",
    "    weight_decay=0.01,          \n",
    "    evaluation_strategy=\"epoch\", #\n",
    "    save_strategy=\"epoch\",     \n",
    "    load_best_model_at_end=True,\n",
    "    push_to_hub=False\n",
    ")"
   ]
  },
  {
   "cell_type": "code",
   "execution_count": null,
   "metadata": {
    "executionInfo": {
     "elapsed": 820,
     "status": "ok",
     "timestamp": 1734097721681,
     "user": {
      "displayName": "Arian ghaderi",
      "userId": "07749721859380516600"
     },
     "user_tz": -210
    },
    "id": "gN6_6UF5KBlC"
   },
   "outputs": [],
   "source": [
    "import evaluate\n",
    "accuracy= evaluate.load(\"accuracy\")\n",
    "\n"
   ]
  },
  {
   "cell_type": "code",
   "execution_count": null,
   "metadata": {
    "executionInfo": {
     "elapsed": 380,
     "status": "ok",
     "timestamp": 1734097844855,
     "user": {
      "displayName": "Arian ghaderi",
      "userId": "07749721859380516600"
     },
     "user_tz": -210
    },
    "id": "JoBY8KINKbeY"
   },
   "outputs": [],
   "source": [
    "import numpy as np\n",
    "\n",
    "def compute_metrics(eval_pred):\n",
    "  predictions , label= eval_pred\n",
    "\n",
    "  prediction= np.argmax[predictions,axis==1]\n",
    "  return accuracy.compute[predictions==pridictions,references==labels]"
   ]
  },
  {
   "cell_type": "code",
   "execution_count": null,
   "metadata": {
    "executionInfo": {
     "elapsed": 575,
     "status": "ok",
     "timestamp": 1734097924321,
     "user": {
      "displayName": "Arian ghaderi",
      "userId": "07749721859380516600"
     },
     "user_tz": -210
    },
    "id": "JGCLe9UqLUcz"
   },
   "outputs": [],
   "source": [
    "from transformers import DataCollatorWithPadding\n",
    "\n",
    "\n",
    "\n",
    "\n",
    "data_collator= DataCollatorWithPadding(tokenizer=tokenizer)"
   ]
  },
  {
   "cell_type": "code",
   "execution_count": 114,
   "metadata": {
    "colab": {
     "base_uri": "https://localhost:8080/"
    },
    "executionInfo": {
     "elapsed": 10,
     "status": "ok",
     "timestamp": 1734097925422,
     "user": {
      "displayName": "Arian ghaderi",
      "userId": "07749721859380516600"
     },
     "user_tz": -210
    },
    "id": "uaJacsmQLtRW",
    "outputId": "a914cc96-61e8-44e4-e095-4bcbfb6bb70c"
   },
   "outputs": [
    {
     "data": {
      "text/plain": [
       "Dataset({\n",
       "    features: ['label'],\n",
       "    num_rows: 20\n",
       "})"
      ]
     },
     "execution_count": 114,
     "metadata": {},
     "output_type": "execute_result"
    }
   ],
   "source": [
    "sampel_data"
   ]
  },
  {
   "cell_type": "code",
   "execution_count": 115,
   "metadata": {
    "colab": {
     "base_uri": "https://localhost:8080/"
    },
    "executionInfo": {
     "elapsed": 336,
     "status": "ok",
     "timestamp": 1734097927291,
     "user": {
      "displayName": "Arian ghaderi",
      "userId": "07749721859380516600"
     },
     "user_tz": -210
    },
    "id": "c3F9uPIkLvvc",
    "outputId": "fe271864-1d8f-4dcd-e1e0-cd8282ff0b28"
   },
   "outputs": [
    {
     "data": {
      "text/plain": [
       "Dataset({\n",
       "    features: ['comment', 'rate', 'input_ids', 'token_type_ids', 'attention_mask'],\n",
       "    num_rows: 10\n",
       "})"
      ]
     },
     "execution_count": 115,
     "metadata": {},
     "output_type": "execute_result"
    }
   ],
   "source": [
    "sampled_test"
   ]
  },
  {
   "cell_type": "code",
   "execution_count": null,
   "metadata": {
    "colab": {
     "base_uri": "https://localhost:8080/",
     "height": 356
    },
    "executionInfo": {
     "elapsed": 405,
     "status": "error",
     "timestamp": 1734098234472,
     "user": {
      "displayName": "Arian ghaderi",
      "userId": "07749721859380516600"
     },
     "user_tz": -210
    },
    "id": "qggzacG2L0Ta",
    "outputId": "d6886c15-3cf7-4f46-e382-d760f6b0446c"
   },
   "outputs": [],
   "source": [
    "sampel_data= sampel_data.rename_column(\"rate\",\"label\")\n",
    "sampel_data= sampel_data.rename_column(\"comment\",\"text\")\n",
    "sampled_test= sampled_test.rename_column(\"rate\",\"label\")\n",
    "sampled_test= sampled_test.rename_column(\"comment\",\"text\")"
   ]
  },
  {
   "cell_type": "code",
   "execution_count": 117,
   "metadata": {
    "colab": {
     "base_uri": "https://localhost:8080/"
    },
    "executionInfo": {
     "elapsed": 497,
     "status": "ok",
     "timestamp": 1734097931930,
     "user": {
      "displayName": "Arian ghaderi",
      "userId": "07749721859380516600"
     },
     "user_tz": -210
    },
    "id": "ODkKNVoCPE5g",
    "outputId": "1c22cd0a-44c9-47fb-cdd3-ae4b643338df"
   },
   "outputs": [
    {
     "data": {
      "text/plain": [
       "{'label': Value(dtype='float64', id=None)}"
      ]
     },
     "execution_count": 117,
     "metadata": {},
     "output_type": "execute_result"
    }
   ],
   "source": [
    "sampel_data.features"
   ]
  },
  {
   "cell_type": "code",
   "execution_count": 118,
   "metadata": {
    "colab": {
     "base_uri": "https://localhost:8080/"
    },
    "executionInfo": {
     "elapsed": 328,
     "status": "ok",
     "timestamp": 1734097936667,
     "user": {
      "displayName": "Arian ghaderi",
      "userId": "07749721859380516600"
     },
     "user_tz": -210
    },
    "id": "VMtcUtcnPJCW",
    "outputId": "be41566f-467e-406b-d673-fc8cd38d2a5b"
   },
   "outputs": [
    {
     "data": {
      "text/plain": [
       "{'comment': Value(dtype='string', id=None),\n",
       " 'rate': Value(dtype='float64', id=None),\n",
       " 'input_ids': Sequence(feature=Value(dtype='int32', id=None), length=-1, id=None),\n",
       " 'token_type_ids': Sequence(feature=Value(dtype='int8', id=None), length=-1, id=None),\n",
       " 'attention_mask': Sequence(feature=Value(dtype='int8', id=None), length=-1, id=None)}"
      ]
     },
     "execution_count": 118,
     "metadata": {},
     "output_type": "execute_result"
    }
   ],
   "source": [
    "sampled_test.features"
   ]
  },
  {
   "cell_type": "code",
   "execution_count": null,
   "metadata": {
    "id": "chZpzDmxPM3w"
   },
   "outputs": [],
   "source": [
    "sampel_data= sampel_data.remove_columns(['text'])\n",
    "sample_test= sampled_test.remove_columns(['text'])"
   ]
  },
  {
   "cell_type": "code",
   "execution_count": 121,
   "metadata": {
    "executionInfo": {
     "elapsed": 398,
     "status": "ok",
     "timestamp": 1734097949028,
     "user": {
      "displayName": "Arian ghaderi",
      "userId": "07749721859380516600"
     },
     "user_tz": -210
    },
    "id": "2o7fwys4P85s"
   },
   "outputs": [],
   "source": [
    "for param in model.parameters():\n",
    "  param.data = param.data.contiguous()"
   ]
  },
  {
   "cell_type": "code",
   "execution_count": null,
   "metadata": {
    "id": "FwQqwZQtQKs_"
   },
   "outputs": [],
   "source": [
    "trainer=Trainer(\n",
    "    model= model,\n",
    "    args= training_args,\n",
    "    train_dataset= sampel_data,\n",
    "    eval_dataset= sampled_test,\n",
    "    tokenizer= tokenizer,\n",
    "    data_collator= data_collator,\n",
    "    compute_metrics= compute_metrics\n",
    ")\n",
    "\n",
    "trainer.train()"
   ]
  }
 ],
 "metadata": {
  "accelerator": "TPU",
  "colab": {
   "authorship_tag": "ABX9TyMP04n7w3nUR5AljGAqs7yn",
   "gpuType": "V28",
   "mount_file_id": "1NHB8HYIdy5uAKcnA_xZkNzyxRs8GaXna",
   "provenance": []
  },
  "kernelspec": {
   "display_name": "Python 3",
   "name": "python3"
  },
  "language_info": {
   "name": "python"
  },
  "widgets": {
   "application/vnd.jupyter.widget-state+json": {
    "06f2f6f50d9149a19004d01494895931": {
     "model_module": "@jupyter-widgets/controls",
     "model_module_version": "1.5.0",
     "model_name": "FloatProgressModel",
     "state": {
      "_dom_classes": [],
      "_model_module": "@jupyter-widgets/controls",
      "_model_module_version": "1.5.0",
      "_model_name": "FloatProgressModel",
      "_view_count": null,
      "_view_module": "@jupyter-widgets/controls",
      "_view_module_version": "1.5.0",
      "_view_name": "ProgressView",
      "bar_style": "success",
      "description": "",
      "description_tooltip": null,
      "layout": "IPY_MODEL_4acabd31b073460cbd72778a83d24530",
      "max": 55863,
      "min": 0,
      "orientation": "horizontal",
      "style": "IPY_MODEL_7c067186ae54414e8e4b54d88a8c318b",
      "value": 55863
     }
    },
    "131a0791cfe348728bedac9e3244ab17": {
     "model_module": "@jupyter-widgets/base",
     "model_module_version": "1.2.0",
     "model_name": "LayoutModel",
     "state": {
      "_model_module": "@jupyter-widgets/base",
      "_model_module_version": "1.2.0",
      "_model_name": "LayoutModel",
      "_view_count": null,
      "_view_module": "@jupyter-widgets/base",
      "_view_module_version": "1.2.0",
      "_view_name": "LayoutView",
      "align_content": null,
      "align_items": null,
      "align_self": null,
      "border": null,
      "bottom": null,
      "display": null,
      "flex": null,
      "flex_flow": null,
      "grid_area": null,
      "grid_auto_columns": null,
      "grid_auto_flow": null,
      "grid_auto_rows": null,
      "grid_column": null,
      "grid_gap": null,
      "grid_row": null,
      "grid_template_areas": null,
      "grid_template_columns": null,
      "grid_template_rows": null,
      "height": null,
      "justify_content": null,
      "justify_items": null,
      "left": null,
      "margin": null,
      "max_height": null,
      "max_width": null,
      "min_height": null,
      "min_width": null,
      "object_fit": null,
      "object_position": null,
      "order": null,
      "overflow": null,
      "overflow_x": null,
      "overflow_y": null,
      "padding": null,
      "right": null,
      "top": null,
      "visibility": null,
      "width": null
     }
    },
    "174c2490dead4c81b9df4927c88a97e7": {
     "model_module": "@jupyter-widgets/controls",
     "model_module_version": "1.5.0",
     "model_name": "HBoxModel",
     "state": {
      "_dom_classes": [],
      "_model_module": "@jupyter-widgets/controls",
      "_model_module_version": "1.5.0",
      "_model_name": "HBoxModel",
      "_view_count": null,
      "_view_module": "@jupyter-widgets/controls",
      "_view_module_version": "1.5.0",
      "_view_name": "HBoxView",
      "box_style": "",
      "children": [
       "IPY_MODEL_d09a7af48d404a468c5abb128f5dec13",
       "IPY_MODEL_4bde4e917e654ae9ad2843776486b66c",
       "IPY_MODEL_d4bff11959aa49d192c20cc1304735bb"
      ],
      "layout": "IPY_MODEL_b7ab5129ec834613960397d5c082d243"
     }
    },
    "2c6f3d3a70e84c8ab5a83187ad0e398f": {
     "model_module": "@jupyter-widgets/controls",
     "model_module_version": "1.5.0",
     "model_name": "DescriptionStyleModel",
     "state": {
      "_model_module": "@jupyter-widgets/controls",
      "_model_module_version": "1.5.0",
      "_model_name": "DescriptionStyleModel",
      "_view_count": null,
      "_view_module": "@jupyter-widgets/base",
      "_view_module_version": "1.2.0",
      "_view_name": "StyleView",
      "description_width": ""
     }
    },
    "35511754fbcc424abb34bfd3559ef9b2": {
     "model_module": "@jupyter-widgets/controls",
     "model_module_version": "1.5.0",
     "model_name": "FloatProgressModel",
     "state": {
      "_dom_classes": [],
      "_model_module": "@jupyter-widgets/controls",
      "_model_module_version": "1.5.0",
      "_model_name": "FloatProgressModel",
      "_view_count": null,
      "_view_module": "@jupyter-widgets/controls",
      "_view_module_version": "1.5.0",
      "_view_name": "ProgressView",
      "bar_style": "success",
      "description": "",
      "description_tooltip": null,
      "layout": "IPY_MODEL_6372d5bcd7dd4d67add4ecbe6c84eee3",
      "max": 20,
      "min": 0,
      "orientation": "horizontal",
      "style": "IPY_MODEL_6e28aece35664b0ab11a30a5d4615349",
      "value": 20
     }
    },
    "388b42b6302c4e42bce77742c8e9f71f": {
     "model_module": "@jupyter-widgets/controls",
     "model_module_version": "1.5.0",
     "model_name": "HTMLModel",
     "state": {
      "_dom_classes": [],
      "_model_module": "@jupyter-widgets/controls",
      "_model_module_version": "1.5.0",
      "_model_name": "HTMLModel",
      "_view_count": null,
      "_view_module": "@jupyter-widgets/controls",
      "_view_module_version": "1.5.0",
      "_view_name": "HTMLView",
      "description": "",
      "description_tooltip": null,
      "layout": "IPY_MODEL_b2609a43b69e41e7a1ef9d95dead6491",
      "placeholder": "​",
      "style": "IPY_MODEL_7fa55f2fed4347c19c3cd03b118a92e5",
      "value": " 13966/13966 [00:01&lt;00:00, 9861.00 examples/s]"
     }
    },
    "392fef64999c4ecdb1f4812baeadb2e4": {
     "model_module": "@jupyter-widgets/controls",
     "model_module_version": "1.5.0",
     "model_name": "HBoxModel",
     "state": {
      "_dom_classes": [],
      "_model_module": "@jupyter-widgets/controls",
      "_model_module_version": "1.5.0",
      "_model_name": "HBoxModel",
      "_view_count": null,
      "_view_module": "@jupyter-widgets/controls",
      "_view_module_version": "1.5.0",
      "_view_name": "HBoxView",
      "box_style": "",
      "children": [
       "IPY_MODEL_84f4ac3468c948bba2cb6c3d69add116",
       "IPY_MODEL_06f2f6f50d9149a19004d01494895931",
       "IPY_MODEL_c491472ea259457bb91c476a642ca6f9"
      ],
      "layout": "IPY_MODEL_f75f0126d18b42ab8410cd52e62c569b"
     }
    },
    "3dc815dd499b4c099a78d921f8d8a6f2": {
     "model_module": "@jupyter-widgets/controls",
     "model_module_version": "1.5.0",
     "model_name": "FloatProgressModel",
     "state": {
      "_dom_classes": [],
      "_model_module": "@jupyter-widgets/controls",
      "_model_module_version": "1.5.0",
      "_model_name": "FloatProgressModel",
      "_view_count": null,
      "_view_module": "@jupyter-widgets/controls",
      "_view_module_version": "1.5.0",
      "_view_name": "ProgressView",
      "bar_style": "success",
      "description": "",
      "description_tooltip": null,
      "layout": "IPY_MODEL_bff3a97ffcdb48c4bd4ab3047cad6ef4",
      "max": 13966,
      "min": 0,
      "orientation": "horizontal",
      "style": "IPY_MODEL_5d8ef477f36b47c6b0276d0cdf787866",
      "value": 13966
     }
    },
    "411f57553c5f4390a74aedaf33443e3e": {
     "model_module": "@jupyter-widgets/controls",
     "model_module_version": "1.5.0",
     "model_name": "DescriptionStyleModel",
     "state": {
      "_model_module": "@jupyter-widgets/controls",
      "_model_module_version": "1.5.0",
      "_model_name": "DescriptionStyleModel",
      "_view_count": null,
      "_view_module": "@jupyter-widgets/base",
      "_view_module_version": "1.2.0",
      "_view_name": "StyleView",
      "description_width": ""
     }
    },
    "49ee1787f6bf4beaac1a886ba0cea47a": {
     "model_module": "@jupyter-widgets/controls",
     "model_module_version": "1.5.0",
     "model_name": "HTMLModel",
     "state": {
      "_dom_classes": [],
      "_model_module": "@jupyter-widgets/controls",
      "_model_module_version": "1.5.0",
      "_model_name": "HTMLModel",
      "_view_count": null,
      "_view_module": "@jupyter-widgets/controls",
      "_view_module_version": "1.5.0",
      "_view_name": "HTMLView",
      "description": "",
      "description_tooltip": null,
      "layout": "IPY_MODEL_68ef659a800a4d968cee536287785eed",
      "placeholder": "​",
      "style": "IPY_MODEL_ec5b1ed12f6a40e4af04cbe60d233ac6",
      "value": "Map: 100%"
     }
    },
    "4a11aacfc98e497785c8a8fc9b0cd79d": {
     "model_module": "@jupyter-widgets/base",
     "model_module_version": "1.2.0",
     "model_name": "LayoutModel",
     "state": {
      "_model_module": "@jupyter-widgets/base",
      "_model_module_version": "1.2.0",
      "_model_name": "LayoutModel",
      "_view_count": null,
      "_view_module": "@jupyter-widgets/base",
      "_view_module_version": "1.2.0",
      "_view_name": "LayoutView",
      "align_content": null,
      "align_items": null,
      "align_self": null,
      "border": null,
      "bottom": null,
      "display": null,
      "flex": null,
      "flex_flow": null,
      "grid_area": null,
      "grid_auto_columns": null,
      "grid_auto_flow": null,
      "grid_auto_rows": null,
      "grid_column": null,
      "grid_gap": null,
      "grid_row": null,
      "grid_template_areas": null,
      "grid_template_columns": null,
      "grid_template_rows": null,
      "height": null,
      "justify_content": null,
      "justify_items": null,
      "left": null,
      "margin": null,
      "max_height": null,
      "max_width": null,
      "min_height": null,
      "min_width": null,
      "object_fit": null,
      "object_position": null,
      "order": null,
      "overflow": null,
      "overflow_x": null,
      "overflow_y": null,
      "padding": null,
      "right": null,
      "top": null,
      "visibility": null,
      "width": null
     }
    },
    "4acabd31b073460cbd72778a83d24530": {
     "model_module": "@jupyter-widgets/base",
     "model_module_version": "1.2.0",
     "model_name": "LayoutModel",
     "state": {
      "_model_module": "@jupyter-widgets/base",
      "_model_module_version": "1.2.0",
      "_model_name": "LayoutModel",
      "_view_count": null,
      "_view_module": "@jupyter-widgets/base",
      "_view_module_version": "1.2.0",
      "_view_name": "LayoutView",
      "align_content": null,
      "align_items": null,
      "align_self": null,
      "border": null,
      "bottom": null,
      "display": null,
      "flex": null,
      "flex_flow": null,
      "grid_area": null,
      "grid_auto_columns": null,
      "grid_auto_flow": null,
      "grid_auto_rows": null,
      "grid_column": null,
      "grid_gap": null,
      "grid_row": null,
      "grid_template_areas": null,
      "grid_template_columns": null,
      "grid_template_rows": null,
      "height": null,
      "justify_content": null,
      "justify_items": null,
      "left": null,
      "margin": null,
      "max_height": null,
      "max_width": null,
      "min_height": null,
      "min_width": null,
      "object_fit": null,
      "object_position": null,
      "order": null,
      "overflow": null,
      "overflow_x": null,
      "overflow_y": null,
      "padding": null,
      "right": null,
      "top": null,
      "visibility": null,
      "width": null
     }
    },
    "4bde4e917e654ae9ad2843776486b66c": {
     "model_module": "@jupyter-widgets/controls",
     "model_module_version": "1.5.0",
     "model_name": "FloatProgressModel",
     "state": {
      "_dom_classes": [],
      "_model_module": "@jupyter-widgets/controls",
      "_model_module_version": "1.5.0",
      "_model_name": "FloatProgressModel",
      "_view_count": null,
      "_view_module": "@jupyter-widgets/controls",
      "_view_module_version": "1.5.0",
      "_view_name": "ProgressView",
      "bar_style": "success",
      "description": "",
      "description_tooltip": null,
      "layout": "IPY_MODEL_d8c75771aa234c14abcd55e5803ee876",
      "max": 10,
      "min": 0,
      "orientation": "horizontal",
      "style": "IPY_MODEL_7354ae46842f4d40a9dd63f210fd7bf8",
      "value": 10
     }
    },
    "58c77f49a0e048bab4e68065c0593789": {
     "model_module": "@jupyter-widgets/controls",
     "model_module_version": "1.5.0",
     "model_name": "DescriptionStyleModel",
     "state": {
      "_model_module": "@jupyter-widgets/controls",
      "_model_module_version": "1.5.0",
      "_model_name": "DescriptionStyleModel",
      "_view_count": null,
      "_view_module": "@jupyter-widgets/base",
      "_view_module_version": "1.2.0",
      "_view_name": "StyleView",
      "description_width": ""
     }
    },
    "5d8ef477f36b47c6b0276d0cdf787866": {
     "model_module": "@jupyter-widgets/controls",
     "model_module_version": "1.5.0",
     "model_name": "ProgressStyleModel",
     "state": {
      "_model_module": "@jupyter-widgets/controls",
      "_model_module_version": "1.5.0",
      "_model_name": "ProgressStyleModel",
      "_view_count": null,
      "_view_module": "@jupyter-widgets/base",
      "_view_module_version": "1.2.0",
      "_view_name": "StyleView",
      "bar_color": null,
      "description_width": ""
     }
    },
    "5df464631a1e48ac9ea1dd4a37a84e24": {
     "model_module": "@jupyter-widgets/base",
     "model_module_version": "1.2.0",
     "model_name": "LayoutModel",
     "state": {
      "_model_module": "@jupyter-widgets/base",
      "_model_module_version": "1.2.0",
      "_model_name": "LayoutModel",
      "_view_count": null,
      "_view_module": "@jupyter-widgets/base",
      "_view_module_version": "1.2.0",
      "_view_name": "LayoutView",
      "align_content": null,
      "align_items": null,
      "align_self": null,
      "border": null,
      "bottom": null,
      "display": null,
      "flex": null,
      "flex_flow": null,
      "grid_area": null,
      "grid_auto_columns": null,
      "grid_auto_flow": null,
      "grid_auto_rows": null,
      "grid_column": null,
      "grid_gap": null,
      "grid_row": null,
      "grid_template_areas": null,
      "grid_template_columns": null,
      "grid_template_rows": null,
      "height": null,
      "justify_content": null,
      "justify_items": null,
      "left": null,
      "margin": null,
      "max_height": null,
      "max_width": null,
      "min_height": null,
      "min_width": null,
      "object_fit": null,
      "object_position": null,
      "order": null,
      "overflow": null,
      "overflow_x": null,
      "overflow_y": null,
      "padding": null,
      "right": null,
      "top": null,
      "visibility": null,
      "width": null
     }
    },
    "613ecdf0e4d2429ba1396d84cbab689c": {
     "model_module": "@jupyter-widgets/controls",
     "model_module_version": "1.5.0",
     "model_name": "HBoxModel",
     "state": {
      "_dom_classes": [],
      "_model_module": "@jupyter-widgets/controls",
      "_model_module_version": "1.5.0",
      "_model_name": "HBoxModel",
      "_view_count": null,
      "_view_module": "@jupyter-widgets/controls",
      "_view_module_version": "1.5.0",
      "_view_name": "HBoxView",
      "box_style": "",
      "children": [
       "IPY_MODEL_6daff9caeef7470ab6eec86772398461",
       "IPY_MODEL_35511754fbcc424abb34bfd3559ef9b2",
       "IPY_MODEL_94a3ab29ff6e48a294377e29e1241abc"
      ],
      "layout": "IPY_MODEL_ec8091ab01ec4877a0ee2261e4d9b112"
     }
    },
    "6372d5bcd7dd4d67add4ecbe6c84eee3": {
     "model_module": "@jupyter-widgets/base",
     "model_module_version": "1.2.0",
     "model_name": "LayoutModel",
     "state": {
      "_model_module": "@jupyter-widgets/base",
      "_model_module_version": "1.2.0",
      "_model_name": "LayoutModel",
      "_view_count": null,
      "_view_module": "@jupyter-widgets/base",
      "_view_module_version": "1.2.0",
      "_view_name": "LayoutView",
      "align_content": null,
      "align_items": null,
      "align_self": null,
      "border": null,
      "bottom": null,
      "display": null,
      "flex": null,
      "flex_flow": null,
      "grid_area": null,
      "grid_auto_columns": null,
      "grid_auto_flow": null,
      "grid_auto_rows": null,
      "grid_column": null,
      "grid_gap": null,
      "grid_row": null,
      "grid_template_areas": null,
      "grid_template_columns": null,
      "grid_template_rows": null,
      "height": null,
      "justify_content": null,
      "justify_items": null,
      "left": null,
      "margin": null,
      "max_height": null,
      "max_width": null,
      "min_height": null,
      "min_width": null,
      "object_fit": null,
      "object_position": null,
      "order": null,
      "overflow": null,
      "overflow_x": null,
      "overflow_y": null,
      "padding": null,
      "right": null,
      "top": null,
      "visibility": null,
      "width": null
     }
    },
    "65105428e8cf49a78ffc3ea686c0107f": {
     "model_module": "@jupyter-widgets/base",
     "model_module_version": "1.2.0",
     "model_name": "LayoutModel",
     "state": {
      "_model_module": "@jupyter-widgets/base",
      "_model_module_version": "1.2.0",
      "_model_name": "LayoutModel",
      "_view_count": null,
      "_view_module": "@jupyter-widgets/base",
      "_view_module_version": "1.2.0",
      "_view_name": "LayoutView",
      "align_content": null,
      "align_items": null,
      "align_self": null,
      "border": null,
      "bottom": null,
      "display": null,
      "flex": null,
      "flex_flow": null,
      "grid_area": null,
      "grid_auto_columns": null,
      "grid_auto_flow": null,
      "grid_auto_rows": null,
      "grid_column": null,
      "grid_gap": null,
      "grid_row": null,
      "grid_template_areas": null,
      "grid_template_columns": null,
      "grid_template_rows": null,
      "height": null,
      "justify_content": null,
      "justify_items": null,
      "left": null,
      "margin": null,
      "max_height": null,
      "max_width": null,
      "min_height": null,
      "min_width": null,
      "object_fit": null,
      "object_position": null,
      "order": null,
      "overflow": null,
      "overflow_x": null,
      "overflow_y": null,
      "padding": null,
      "right": null,
      "top": null,
      "visibility": null,
      "width": null
     }
    },
    "663c85e9c86f497eb0cd2e311f8ca1d9": {
     "model_module": "@jupyter-widgets/controls",
     "model_module_version": "1.5.0",
     "model_name": "DescriptionStyleModel",
     "state": {
      "_model_module": "@jupyter-widgets/controls",
      "_model_module_version": "1.5.0",
      "_model_name": "DescriptionStyleModel",
      "_view_count": null,
      "_view_module": "@jupyter-widgets/base",
      "_view_module_version": "1.2.0",
      "_view_name": "StyleView",
      "description_width": ""
     }
    },
    "66a80ccbe88b46c381bb331e9525e1de": {
     "model_module": "@jupyter-widgets/controls",
     "model_module_version": "1.5.0",
     "model_name": "DescriptionStyleModel",
     "state": {
      "_model_module": "@jupyter-widgets/controls",
      "_model_module_version": "1.5.0",
      "_model_name": "DescriptionStyleModel",
      "_view_count": null,
      "_view_module": "@jupyter-widgets/base",
      "_view_module_version": "1.2.0",
      "_view_name": "StyleView",
      "description_width": ""
     }
    },
    "68ef659a800a4d968cee536287785eed": {
     "model_module": "@jupyter-widgets/base",
     "model_module_version": "1.2.0",
     "model_name": "LayoutModel",
     "state": {
      "_model_module": "@jupyter-widgets/base",
      "_model_module_version": "1.2.0",
      "_model_name": "LayoutModel",
      "_view_count": null,
      "_view_module": "@jupyter-widgets/base",
      "_view_module_version": "1.2.0",
      "_view_name": "LayoutView",
      "align_content": null,
      "align_items": null,
      "align_self": null,
      "border": null,
      "bottom": null,
      "display": null,
      "flex": null,
      "flex_flow": null,
      "grid_area": null,
      "grid_auto_columns": null,
      "grid_auto_flow": null,
      "grid_auto_rows": null,
      "grid_column": null,
      "grid_gap": null,
      "grid_row": null,
      "grid_template_areas": null,
      "grid_template_columns": null,
      "grid_template_rows": null,
      "height": null,
      "justify_content": null,
      "justify_items": null,
      "left": null,
      "margin": null,
      "max_height": null,
      "max_width": null,
      "min_height": null,
      "min_width": null,
      "object_fit": null,
      "object_position": null,
      "order": null,
      "overflow": null,
      "overflow_x": null,
      "overflow_y": null,
      "padding": null,
      "right": null,
      "top": null,
      "visibility": null,
      "width": null
     }
    },
    "6daff9caeef7470ab6eec86772398461": {
     "model_module": "@jupyter-widgets/controls",
     "model_module_version": "1.5.0",
     "model_name": "HTMLModel",
     "state": {
      "_dom_classes": [],
      "_model_module": "@jupyter-widgets/controls",
      "_model_module_version": "1.5.0",
      "_model_name": "HTMLModel",
      "_view_count": null,
      "_view_module": "@jupyter-widgets/controls",
      "_view_module_version": "1.5.0",
      "_view_name": "HTMLView",
      "description": "",
      "description_tooltip": null,
      "layout": "IPY_MODEL_bace08ac0af04fcabea32030fbf80a5e",
      "placeholder": "​",
      "style": "IPY_MODEL_8d58715ade054404a119aa3645f1e172",
      "value": "Map: 100%"
     }
    },
    "6e28aece35664b0ab11a30a5d4615349": {
     "model_module": "@jupyter-widgets/controls",
     "model_module_version": "1.5.0",
     "model_name": "ProgressStyleModel",
     "state": {
      "_model_module": "@jupyter-widgets/controls",
      "_model_module_version": "1.5.0",
      "_model_name": "ProgressStyleModel",
      "_view_count": null,
      "_view_module": "@jupyter-widgets/base",
      "_view_module_version": "1.2.0",
      "_view_name": "StyleView",
      "bar_color": null,
      "description_width": ""
     }
    },
    "7354ae46842f4d40a9dd63f210fd7bf8": {
     "model_module": "@jupyter-widgets/controls",
     "model_module_version": "1.5.0",
     "model_name": "ProgressStyleModel",
     "state": {
      "_model_module": "@jupyter-widgets/controls",
      "_model_module_version": "1.5.0",
      "_model_name": "ProgressStyleModel",
      "_view_count": null,
      "_view_module": "@jupyter-widgets/base",
      "_view_module_version": "1.2.0",
      "_view_name": "StyleView",
      "bar_color": null,
      "description_width": ""
     }
    },
    "7c067186ae54414e8e4b54d88a8c318b": {
     "model_module": "@jupyter-widgets/controls",
     "model_module_version": "1.5.0",
     "model_name": "ProgressStyleModel",
     "state": {
      "_model_module": "@jupyter-widgets/controls",
      "_model_module_version": "1.5.0",
      "_model_name": "ProgressStyleModel",
      "_view_count": null,
      "_view_module": "@jupyter-widgets/base",
      "_view_module_version": "1.2.0",
      "_view_name": "StyleView",
      "bar_color": null,
      "description_width": ""
     }
    },
    "7fa55f2fed4347c19c3cd03b118a92e5": {
     "model_module": "@jupyter-widgets/controls",
     "model_module_version": "1.5.0",
     "model_name": "DescriptionStyleModel",
     "state": {
      "_model_module": "@jupyter-widgets/controls",
      "_model_module_version": "1.5.0",
      "_model_name": "DescriptionStyleModel",
      "_view_count": null,
      "_view_module": "@jupyter-widgets/base",
      "_view_module_version": "1.2.0",
      "_view_name": "StyleView",
      "description_width": ""
     }
    },
    "82bd510cbc454829b2aa90fbdb210ca5": {
     "model_module": "@jupyter-widgets/base",
     "model_module_version": "1.2.0",
     "model_name": "LayoutModel",
     "state": {
      "_model_module": "@jupyter-widgets/base",
      "_model_module_version": "1.2.0",
      "_model_name": "LayoutModel",
      "_view_count": null,
      "_view_module": "@jupyter-widgets/base",
      "_view_module_version": "1.2.0",
      "_view_name": "LayoutView",
      "align_content": null,
      "align_items": null,
      "align_self": null,
      "border": null,
      "bottom": null,
      "display": null,
      "flex": null,
      "flex_flow": null,
      "grid_area": null,
      "grid_auto_columns": null,
      "grid_auto_flow": null,
      "grid_auto_rows": null,
      "grid_column": null,
      "grid_gap": null,
      "grid_row": null,
      "grid_template_areas": null,
      "grid_template_columns": null,
      "grid_template_rows": null,
      "height": null,
      "justify_content": null,
      "justify_items": null,
      "left": null,
      "margin": null,
      "max_height": null,
      "max_width": null,
      "min_height": null,
      "min_width": null,
      "object_fit": null,
      "object_position": null,
      "order": null,
      "overflow": null,
      "overflow_x": null,
      "overflow_y": null,
      "padding": null,
      "right": null,
      "top": null,
      "visibility": null,
      "width": null
     }
    },
    "84f4ac3468c948bba2cb6c3d69add116": {
     "model_module": "@jupyter-widgets/controls",
     "model_module_version": "1.5.0",
     "model_name": "HTMLModel",
     "state": {
      "_dom_classes": [],
      "_model_module": "@jupyter-widgets/controls",
      "_model_module_version": "1.5.0",
      "_model_name": "HTMLModel",
      "_view_count": null,
      "_view_module": "@jupyter-widgets/controls",
      "_view_module_version": "1.5.0",
      "_view_name": "HTMLView",
      "description": "",
      "description_tooltip": null,
      "layout": "IPY_MODEL_65105428e8cf49a78ffc3ea686c0107f",
      "placeholder": "​",
      "style": "IPY_MODEL_411f57553c5f4390a74aedaf33443e3e",
      "value": "Saving the dataset (1/1 shards): 100%"
     }
    },
    "8d58715ade054404a119aa3645f1e172": {
     "model_module": "@jupyter-widgets/controls",
     "model_module_version": "1.5.0",
     "model_name": "DescriptionStyleModel",
     "state": {
      "_model_module": "@jupyter-widgets/controls",
      "_model_module_version": "1.5.0",
      "_model_name": "DescriptionStyleModel",
      "_view_count": null,
      "_view_module": "@jupyter-widgets/base",
      "_view_module_version": "1.2.0",
      "_view_name": "StyleView",
      "description_width": ""
     }
    },
    "94a3ab29ff6e48a294377e29e1241abc": {
     "model_module": "@jupyter-widgets/controls",
     "model_module_version": "1.5.0",
     "model_name": "HTMLModel",
     "state": {
      "_dom_classes": [],
      "_model_module": "@jupyter-widgets/controls",
      "_model_module_version": "1.5.0",
      "_model_name": "HTMLModel",
      "_view_count": null,
      "_view_module": "@jupyter-widgets/controls",
      "_view_module_version": "1.5.0",
      "_view_name": "HTMLView",
      "description": "",
      "description_tooltip": null,
      "layout": "IPY_MODEL_5df464631a1e48ac9ea1dd4a37a84e24",
      "placeholder": "​",
      "style": "IPY_MODEL_58c77f49a0e048bab4e68065c0593789",
      "value": " 20/20 [00:00&lt;00:00, 823.07 examples/s]"
     }
    },
    "957e6913468543de8e061b1c7385aaa7": {
     "model_module": "@jupyter-widgets/controls",
     "model_module_version": "1.5.0",
     "model_name": "DescriptionStyleModel",
     "state": {
      "_model_module": "@jupyter-widgets/controls",
      "_model_module_version": "1.5.0",
      "_model_name": "DescriptionStyleModel",
      "_view_count": null,
      "_view_module": "@jupyter-widgets/base",
      "_view_module_version": "1.2.0",
      "_view_name": "StyleView",
      "description_width": ""
     }
    },
    "9f11999a3d684b56be665cd4ad4121d2": {
     "model_module": "@jupyter-widgets/base",
     "model_module_version": "1.2.0",
     "model_name": "LayoutModel",
     "state": {
      "_model_module": "@jupyter-widgets/base",
      "_model_module_version": "1.2.0",
      "_model_name": "LayoutModel",
      "_view_count": null,
      "_view_module": "@jupyter-widgets/base",
      "_view_module_version": "1.2.0",
      "_view_name": "LayoutView",
      "align_content": null,
      "align_items": null,
      "align_self": null,
      "border": null,
      "bottom": null,
      "display": null,
      "flex": null,
      "flex_flow": null,
      "grid_area": null,
      "grid_auto_columns": null,
      "grid_auto_flow": null,
      "grid_auto_rows": null,
      "grid_column": null,
      "grid_gap": null,
      "grid_row": null,
      "grid_template_areas": null,
      "grid_template_columns": null,
      "grid_template_rows": null,
      "height": null,
      "justify_content": null,
      "justify_items": null,
      "left": null,
      "margin": null,
      "max_height": null,
      "max_width": null,
      "min_height": null,
      "min_width": null,
      "object_fit": null,
      "object_position": null,
      "order": null,
      "overflow": null,
      "overflow_x": null,
      "overflow_y": null,
      "padding": null,
      "right": null,
      "top": null,
      "visibility": null,
      "width": null
     }
    },
    "a6b27845d586486ba158f1b0a0c630a8": {
     "model_module": "@jupyter-widgets/base",
     "model_module_version": "1.2.0",
     "model_name": "LayoutModel",
     "state": {
      "_model_module": "@jupyter-widgets/base",
      "_model_module_version": "1.2.0",
      "_model_name": "LayoutModel",
      "_view_count": null,
      "_view_module": "@jupyter-widgets/base",
      "_view_module_version": "1.2.0",
      "_view_name": "LayoutView",
      "align_content": null,
      "align_items": null,
      "align_self": null,
      "border": null,
      "bottom": null,
      "display": null,
      "flex": null,
      "flex_flow": null,
      "grid_area": null,
      "grid_auto_columns": null,
      "grid_auto_flow": null,
      "grid_auto_rows": null,
      "grid_column": null,
      "grid_gap": null,
      "grid_row": null,
      "grid_template_areas": null,
      "grid_template_columns": null,
      "grid_template_rows": null,
      "height": null,
      "justify_content": null,
      "justify_items": null,
      "left": null,
      "margin": null,
      "max_height": null,
      "max_width": null,
      "min_height": null,
      "min_width": null,
      "object_fit": null,
      "object_position": null,
      "order": null,
      "overflow": null,
      "overflow_x": null,
      "overflow_y": null,
      "padding": null,
      "right": null,
      "top": null,
      "visibility": null,
      "width": null
     }
    },
    "a9470ebfb0ab4a529a11aed6994401ad": {
     "model_module": "@jupyter-widgets/controls",
     "model_module_version": "1.5.0",
     "model_name": "FloatProgressModel",
     "state": {
      "_dom_classes": [],
      "_model_module": "@jupyter-widgets/controls",
      "_model_module_version": "1.5.0",
      "_model_name": "FloatProgressModel",
      "_view_count": null,
      "_view_module": "@jupyter-widgets/controls",
      "_view_module_version": "1.5.0",
      "_view_name": "ProgressView",
      "bar_style": "success",
      "description": "",
      "description_tooltip": null,
      "layout": "IPY_MODEL_a6b27845d586486ba158f1b0a0c630a8",
      "max": 10,
      "min": 0,
      "orientation": "horizontal",
      "style": "IPY_MODEL_c854599d8dae4b53a8b456b247ef5e0d",
      "value": 10
     }
    },
    "aece9a5bf1dc4b5c930162f6b63a14e1": {
     "model_module": "@jupyter-widgets/controls",
     "model_module_version": "1.5.0",
     "model_name": "HBoxModel",
     "state": {
      "_dom_classes": [],
      "_model_module": "@jupyter-widgets/controls",
      "_model_module_version": "1.5.0",
      "_model_name": "HBoxModel",
      "_view_count": null,
      "_view_module": "@jupyter-widgets/controls",
      "_view_module_version": "1.5.0",
      "_view_name": "HBoxView",
      "box_style": "",
      "children": [
       "IPY_MODEL_fb619b389bfd4c44bf622283fcea8f4b",
       "IPY_MODEL_3dc815dd499b4c099a78d921f8d8a6f2",
       "IPY_MODEL_388b42b6302c4e42bce77742c8e9f71f"
      ],
      "layout": "IPY_MODEL_e81b402c2b7743708425c68792ca650d"
     }
    },
    "b2609a43b69e41e7a1ef9d95dead6491": {
     "model_module": "@jupyter-widgets/base",
     "model_module_version": "1.2.0",
     "model_name": "LayoutModel",
     "state": {
      "_model_module": "@jupyter-widgets/base",
      "_model_module_version": "1.2.0",
      "_model_name": "LayoutModel",
      "_view_count": null,
      "_view_module": "@jupyter-widgets/base",
      "_view_module_version": "1.2.0",
      "_view_name": "LayoutView",
      "align_content": null,
      "align_items": null,
      "align_self": null,
      "border": null,
      "bottom": null,
      "display": null,
      "flex": null,
      "flex_flow": null,
      "grid_area": null,
      "grid_auto_columns": null,
      "grid_auto_flow": null,
      "grid_auto_rows": null,
      "grid_column": null,
      "grid_gap": null,
      "grid_row": null,
      "grid_template_areas": null,
      "grid_template_columns": null,
      "grid_template_rows": null,
      "height": null,
      "justify_content": null,
      "justify_items": null,
      "left": null,
      "margin": null,
      "max_height": null,
      "max_width": null,
      "min_height": null,
      "min_width": null,
      "object_fit": null,
      "object_position": null,
      "order": null,
      "overflow": null,
      "overflow_x": null,
      "overflow_y": null,
      "padding": null,
      "right": null,
      "top": null,
      "visibility": null,
      "width": null
     }
    },
    "b7ab5129ec834613960397d5c082d243": {
     "model_module": "@jupyter-widgets/base",
     "model_module_version": "1.2.0",
     "model_name": "LayoutModel",
     "state": {
      "_model_module": "@jupyter-widgets/base",
      "_model_module_version": "1.2.0",
      "_model_name": "LayoutModel",
      "_view_count": null,
      "_view_module": "@jupyter-widgets/base",
      "_view_module_version": "1.2.0",
      "_view_name": "LayoutView",
      "align_content": null,
      "align_items": null,
      "align_self": null,
      "border": null,
      "bottom": null,
      "display": null,
      "flex": null,
      "flex_flow": null,
      "grid_area": null,
      "grid_auto_columns": null,
      "grid_auto_flow": null,
      "grid_auto_rows": null,
      "grid_column": null,
      "grid_gap": null,
      "grid_row": null,
      "grid_template_areas": null,
      "grid_template_columns": null,
      "grid_template_rows": null,
      "height": null,
      "justify_content": null,
      "justify_items": null,
      "left": null,
      "margin": null,
      "max_height": null,
      "max_width": null,
      "min_height": null,
      "min_width": null,
      "object_fit": null,
      "object_position": null,
      "order": null,
      "overflow": null,
      "overflow_x": null,
      "overflow_y": null,
      "padding": null,
      "right": null,
      "top": null,
      "visibility": null,
      "width": null
     }
    },
    "bace08ac0af04fcabea32030fbf80a5e": {
     "model_module": "@jupyter-widgets/base",
     "model_module_version": "1.2.0",
     "model_name": "LayoutModel",
     "state": {
      "_model_module": "@jupyter-widgets/base",
      "_model_module_version": "1.2.0",
      "_model_name": "LayoutModel",
      "_view_count": null,
      "_view_module": "@jupyter-widgets/base",
      "_view_module_version": "1.2.0",
      "_view_name": "LayoutView",
      "align_content": null,
      "align_items": null,
      "align_self": null,
      "border": null,
      "bottom": null,
      "display": null,
      "flex": null,
      "flex_flow": null,
      "grid_area": null,
      "grid_auto_columns": null,
      "grid_auto_flow": null,
      "grid_auto_rows": null,
      "grid_column": null,
      "grid_gap": null,
      "grid_row": null,
      "grid_template_areas": null,
      "grid_template_columns": null,
      "grid_template_rows": null,
      "height": null,
      "justify_content": null,
      "justify_items": null,
      "left": null,
      "margin": null,
      "max_height": null,
      "max_width": null,
      "min_height": null,
      "min_width": null,
      "object_fit": null,
      "object_position": null,
      "order": null,
      "overflow": null,
      "overflow_x": null,
      "overflow_y": null,
      "padding": null,
      "right": null,
      "top": null,
      "visibility": null,
      "width": null
     }
    },
    "bc9d66f6bf6f42debeff3dc6afd1d1b3": {
     "model_module": "@jupyter-widgets/controls",
     "model_module_version": "1.5.0",
     "model_name": "HTMLModel",
     "state": {
      "_dom_classes": [],
      "_model_module": "@jupyter-widgets/controls",
      "_model_module_version": "1.5.0",
      "_model_name": "HTMLModel",
      "_view_count": null,
      "_view_module": "@jupyter-widgets/controls",
      "_view_module_version": "1.5.0",
      "_view_name": "HTMLView",
      "description": "",
      "description_tooltip": null,
      "layout": "IPY_MODEL_131a0791cfe348728bedac9e3244ab17",
      "placeholder": "​",
      "style": "IPY_MODEL_957e6913468543de8e061b1c7385aaa7",
      "value": " 10/10 [00:00&lt;00:00, 250.05 examples/s]"
     }
    },
    "bdad5eb947164a83bd93cf75052289d6": {
     "model_module": "@jupyter-widgets/base",
     "model_module_version": "1.2.0",
     "model_name": "LayoutModel",
     "state": {
      "_model_module": "@jupyter-widgets/base",
      "_model_module_version": "1.2.0",
      "_model_name": "LayoutModel",
      "_view_count": null,
      "_view_module": "@jupyter-widgets/base",
      "_view_module_version": "1.2.0",
      "_view_name": "LayoutView",
      "align_content": null,
      "align_items": null,
      "align_self": null,
      "border": null,
      "bottom": null,
      "display": null,
      "flex": null,
      "flex_flow": null,
      "grid_area": null,
      "grid_auto_columns": null,
      "grid_auto_flow": null,
      "grid_auto_rows": null,
      "grid_column": null,
      "grid_gap": null,
      "grid_row": null,
      "grid_template_areas": null,
      "grid_template_columns": null,
      "grid_template_rows": null,
      "height": null,
      "justify_content": null,
      "justify_items": null,
      "left": null,
      "margin": null,
      "max_height": null,
      "max_width": null,
      "min_height": null,
      "min_width": null,
      "object_fit": null,
      "object_position": null,
      "order": null,
      "overflow": null,
      "overflow_x": null,
      "overflow_y": null,
      "padding": null,
      "right": null,
      "top": null,
      "visibility": null,
      "width": null
     }
    },
    "bff3a97ffcdb48c4bd4ab3047cad6ef4": {
     "model_module": "@jupyter-widgets/base",
     "model_module_version": "1.2.0",
     "model_name": "LayoutModel",
     "state": {
      "_model_module": "@jupyter-widgets/base",
      "_model_module_version": "1.2.0",
      "_model_name": "LayoutModel",
      "_view_count": null,
      "_view_module": "@jupyter-widgets/base",
      "_view_module_version": "1.2.0",
      "_view_name": "LayoutView",
      "align_content": null,
      "align_items": null,
      "align_self": null,
      "border": null,
      "bottom": null,
      "display": null,
      "flex": null,
      "flex_flow": null,
      "grid_area": null,
      "grid_auto_columns": null,
      "grid_auto_flow": null,
      "grid_auto_rows": null,
      "grid_column": null,
      "grid_gap": null,
      "grid_row": null,
      "grid_template_areas": null,
      "grid_template_columns": null,
      "grid_template_rows": null,
      "height": null,
      "justify_content": null,
      "justify_items": null,
      "left": null,
      "margin": null,
      "max_height": null,
      "max_width": null,
      "min_height": null,
      "min_width": null,
      "object_fit": null,
      "object_position": null,
      "order": null,
      "overflow": null,
      "overflow_x": null,
      "overflow_y": null,
      "padding": null,
      "right": null,
      "top": null,
      "visibility": null,
      "width": null
     }
    },
    "c491472ea259457bb91c476a642ca6f9": {
     "model_module": "@jupyter-widgets/controls",
     "model_module_version": "1.5.0",
     "model_name": "HTMLModel",
     "state": {
      "_dom_classes": [],
      "_model_module": "@jupyter-widgets/controls",
      "_model_module_version": "1.5.0",
      "_model_name": "HTMLModel",
      "_view_count": null,
      "_view_module": "@jupyter-widgets/controls",
      "_view_module_version": "1.5.0",
      "_view_name": "HTMLView",
      "description": "",
      "description_tooltip": null,
      "layout": "IPY_MODEL_4a11aacfc98e497785c8a8fc9b0cd79d",
      "placeholder": "​",
      "style": "IPY_MODEL_2c6f3d3a70e84c8ab5a83187ad0e398f",
      "value": " 55863/55863 [00:01&lt;00:00, 48603.89 examples/s]"
     }
    },
    "c605ea194a7e4112918b226e04e99025": {
     "model_module": "@jupyter-widgets/controls",
     "model_module_version": "1.5.0",
     "model_name": "DescriptionStyleModel",
     "state": {
      "_model_module": "@jupyter-widgets/controls",
      "_model_module_version": "1.5.0",
      "_model_name": "DescriptionStyleModel",
      "_view_count": null,
      "_view_module": "@jupyter-widgets/base",
      "_view_module_version": "1.2.0",
      "_view_name": "StyleView",
      "description_width": ""
     }
    },
    "c854599d8dae4b53a8b456b247ef5e0d": {
     "model_module": "@jupyter-widgets/controls",
     "model_module_version": "1.5.0",
     "model_name": "ProgressStyleModel",
     "state": {
      "_model_module": "@jupyter-widgets/controls",
      "_model_module_version": "1.5.0",
      "_model_name": "ProgressStyleModel",
      "_view_count": null,
      "_view_module": "@jupyter-widgets/base",
      "_view_module_version": "1.2.0",
      "_view_name": "StyleView",
      "bar_color": null,
      "description_width": ""
     }
    },
    "d09a7af48d404a468c5abb128f5dec13": {
     "model_module": "@jupyter-widgets/controls",
     "model_module_version": "1.5.0",
     "model_name": "HTMLModel",
     "state": {
      "_dom_classes": [],
      "_model_module": "@jupyter-widgets/controls",
      "_model_module_version": "1.5.0",
      "_model_name": "HTMLModel",
      "_view_count": null,
      "_view_module": "@jupyter-widgets/controls",
      "_view_module_version": "1.5.0",
      "_view_name": "HTMLView",
      "description": "",
      "description_tooltip": null,
      "layout": "IPY_MODEL_e4feca7b4ef6469fa7777fa68b410bf0",
      "placeholder": "​",
      "style": "IPY_MODEL_66a80ccbe88b46c381bb331e9525e1de",
      "value": "Map: 100%"
     }
    },
    "d4bff11959aa49d192c20cc1304735bb": {
     "model_module": "@jupyter-widgets/controls",
     "model_module_version": "1.5.0",
     "model_name": "HTMLModel",
     "state": {
      "_dom_classes": [],
      "_model_module": "@jupyter-widgets/controls",
      "_model_module_version": "1.5.0",
      "_model_name": "HTMLModel",
      "_view_count": null,
      "_view_module": "@jupyter-widgets/controls",
      "_view_module_version": "1.5.0",
      "_view_name": "HTMLView",
      "description": "",
      "description_tooltip": null,
      "layout": "IPY_MODEL_bdad5eb947164a83bd93cf75052289d6",
      "placeholder": "​",
      "style": "IPY_MODEL_663c85e9c86f497eb0cd2e311f8ca1d9",
      "value": " 10/10 [00:00&lt;00:00, 378.86 examples/s]"
     }
    },
    "d8c75771aa234c14abcd55e5803ee876": {
     "model_module": "@jupyter-widgets/base",
     "model_module_version": "1.2.0",
     "model_name": "LayoutModel",
     "state": {
      "_model_module": "@jupyter-widgets/base",
      "_model_module_version": "1.2.0",
      "_model_name": "LayoutModel",
      "_view_count": null,
      "_view_module": "@jupyter-widgets/base",
      "_view_module_version": "1.2.0",
      "_view_name": "LayoutView",
      "align_content": null,
      "align_items": null,
      "align_self": null,
      "border": null,
      "bottom": null,
      "display": null,
      "flex": null,
      "flex_flow": null,
      "grid_area": null,
      "grid_auto_columns": null,
      "grid_auto_flow": null,
      "grid_auto_rows": null,
      "grid_column": null,
      "grid_gap": null,
      "grid_row": null,
      "grid_template_areas": null,
      "grid_template_columns": null,
      "grid_template_rows": null,
      "height": null,
      "justify_content": null,
      "justify_items": null,
      "left": null,
      "margin": null,
      "max_height": null,
      "max_width": null,
      "min_height": null,
      "min_width": null,
      "object_fit": null,
      "object_position": null,
      "order": null,
      "overflow": null,
      "overflow_x": null,
      "overflow_y": null,
      "padding": null,
      "right": null,
      "top": null,
      "visibility": null,
      "width": null
     }
    },
    "e4feca7b4ef6469fa7777fa68b410bf0": {
     "model_module": "@jupyter-widgets/base",
     "model_module_version": "1.2.0",
     "model_name": "LayoutModel",
     "state": {
      "_model_module": "@jupyter-widgets/base",
      "_model_module_version": "1.2.0",
      "_model_name": "LayoutModel",
      "_view_count": null,
      "_view_module": "@jupyter-widgets/base",
      "_view_module_version": "1.2.0",
      "_view_name": "LayoutView",
      "align_content": null,
      "align_items": null,
      "align_self": null,
      "border": null,
      "bottom": null,
      "display": null,
      "flex": null,
      "flex_flow": null,
      "grid_area": null,
      "grid_auto_columns": null,
      "grid_auto_flow": null,
      "grid_auto_rows": null,
      "grid_column": null,
      "grid_gap": null,
      "grid_row": null,
      "grid_template_areas": null,
      "grid_template_columns": null,
      "grid_template_rows": null,
      "height": null,
      "justify_content": null,
      "justify_items": null,
      "left": null,
      "margin": null,
      "max_height": null,
      "max_width": null,
      "min_height": null,
      "min_width": null,
      "object_fit": null,
      "object_position": null,
      "order": null,
      "overflow": null,
      "overflow_x": null,
      "overflow_y": null,
      "padding": null,
      "right": null,
      "top": null,
      "visibility": null,
      "width": null
     }
    },
    "e81b402c2b7743708425c68792ca650d": {
     "model_module": "@jupyter-widgets/base",
     "model_module_version": "1.2.0",
     "model_name": "LayoutModel",
     "state": {
      "_model_module": "@jupyter-widgets/base",
      "_model_module_version": "1.2.0",
      "_model_name": "LayoutModel",
      "_view_count": null,
      "_view_module": "@jupyter-widgets/base",
      "_view_module_version": "1.2.0",
      "_view_name": "LayoutView",
      "align_content": null,
      "align_items": null,
      "align_self": null,
      "border": null,
      "bottom": null,
      "display": null,
      "flex": null,
      "flex_flow": null,
      "grid_area": null,
      "grid_auto_columns": null,
      "grid_auto_flow": null,
      "grid_auto_rows": null,
      "grid_column": null,
      "grid_gap": null,
      "grid_row": null,
      "grid_template_areas": null,
      "grid_template_columns": null,
      "grid_template_rows": null,
      "height": null,
      "justify_content": null,
      "justify_items": null,
      "left": null,
      "margin": null,
      "max_height": null,
      "max_width": null,
      "min_height": null,
      "min_width": null,
      "object_fit": null,
      "object_position": null,
      "order": null,
      "overflow": null,
      "overflow_x": null,
      "overflow_y": null,
      "padding": null,
      "right": null,
      "top": null,
      "visibility": null,
      "width": null
     }
    },
    "ec5b1ed12f6a40e4af04cbe60d233ac6": {
     "model_module": "@jupyter-widgets/controls",
     "model_module_version": "1.5.0",
     "model_name": "DescriptionStyleModel",
     "state": {
      "_model_module": "@jupyter-widgets/controls",
      "_model_module_version": "1.5.0",
      "_model_name": "DescriptionStyleModel",
      "_view_count": null,
      "_view_module": "@jupyter-widgets/base",
      "_view_module_version": "1.2.0",
      "_view_name": "StyleView",
      "description_width": ""
     }
    },
    "ec8091ab01ec4877a0ee2261e4d9b112": {
     "model_module": "@jupyter-widgets/base",
     "model_module_version": "1.2.0",
     "model_name": "LayoutModel",
     "state": {
      "_model_module": "@jupyter-widgets/base",
      "_model_module_version": "1.2.0",
      "_model_name": "LayoutModel",
      "_view_count": null,
      "_view_module": "@jupyter-widgets/base",
      "_view_module_version": "1.2.0",
      "_view_name": "LayoutView",
      "align_content": null,
      "align_items": null,
      "align_self": null,
      "border": null,
      "bottom": null,
      "display": null,
      "flex": null,
      "flex_flow": null,
      "grid_area": null,
      "grid_auto_columns": null,
      "grid_auto_flow": null,
      "grid_auto_rows": null,
      "grid_column": null,
      "grid_gap": null,
      "grid_row": null,
      "grid_template_areas": null,
      "grid_template_columns": null,
      "grid_template_rows": null,
      "height": null,
      "justify_content": null,
      "justify_items": null,
      "left": null,
      "margin": null,
      "max_height": null,
      "max_width": null,
      "min_height": null,
      "min_width": null,
      "object_fit": null,
      "object_position": null,
      "order": null,
      "overflow": null,
      "overflow_x": null,
      "overflow_y": null,
      "padding": null,
      "right": null,
      "top": null,
      "visibility": null,
      "width": null
     }
    },
    "f75f0126d18b42ab8410cd52e62c569b": {
     "model_module": "@jupyter-widgets/base",
     "model_module_version": "1.2.0",
     "model_name": "LayoutModel",
     "state": {
      "_model_module": "@jupyter-widgets/base",
      "_model_module_version": "1.2.0",
      "_model_name": "LayoutModel",
      "_view_count": null,
      "_view_module": "@jupyter-widgets/base",
      "_view_module_version": "1.2.0",
      "_view_name": "LayoutView",
      "align_content": null,
      "align_items": null,
      "align_self": null,
      "border": null,
      "bottom": null,
      "display": null,
      "flex": null,
      "flex_flow": null,
      "grid_area": null,
      "grid_auto_columns": null,
      "grid_auto_flow": null,
      "grid_auto_rows": null,
      "grid_column": null,
      "grid_gap": null,
      "grid_row": null,
      "grid_template_areas": null,
      "grid_template_columns": null,
      "grid_template_rows": null,
      "height": null,
      "justify_content": null,
      "justify_items": null,
      "left": null,
      "margin": null,
      "max_height": null,
      "max_width": null,
      "min_height": null,
      "min_width": null,
      "object_fit": null,
      "object_position": null,
      "order": null,
      "overflow": null,
      "overflow_x": null,
      "overflow_y": null,
      "padding": null,
      "right": null,
      "top": null,
      "visibility": null,
      "width": null
     }
    },
    "fb619b389bfd4c44bf622283fcea8f4b": {
     "model_module": "@jupyter-widgets/controls",
     "model_module_version": "1.5.0",
     "model_name": "HTMLModel",
     "state": {
      "_dom_classes": [],
      "_model_module": "@jupyter-widgets/controls",
      "_model_module_version": "1.5.0",
      "_model_name": "HTMLModel",
      "_view_count": null,
      "_view_module": "@jupyter-widgets/controls",
      "_view_module_version": "1.5.0",
      "_view_name": "HTMLView",
      "description": "",
      "description_tooltip": null,
      "layout": "IPY_MODEL_9f11999a3d684b56be665cd4ad4121d2",
      "placeholder": "​",
      "style": "IPY_MODEL_c605ea194a7e4112918b226e04e99025",
      "value": "Saving the dataset (1/1 shards): 100%"
     }
    },
    "ff40be2718b64678a0330ecb4d1d9721": {
     "model_module": "@jupyter-widgets/controls",
     "model_module_version": "1.5.0",
     "model_name": "HBoxModel",
     "state": {
      "_dom_classes": [],
      "_model_module": "@jupyter-widgets/controls",
      "_model_module_version": "1.5.0",
      "_model_name": "HBoxModel",
      "_view_count": null,
      "_view_module": "@jupyter-widgets/controls",
      "_view_module_version": "1.5.0",
      "_view_name": "HBoxView",
      "box_style": "",
      "children": [
       "IPY_MODEL_49ee1787f6bf4beaac1a886ba0cea47a",
       "IPY_MODEL_a9470ebfb0ab4a529a11aed6994401ad",
       "IPY_MODEL_bc9d66f6bf6f42debeff3dc6afd1d1b3"
      ],
      "layout": "IPY_MODEL_82bd510cbc454829b2aa90fbdb210ca5"
     }
    }
   }
  }
 },
 "nbformat": 4,
 "nbformat_minor": 0
}
