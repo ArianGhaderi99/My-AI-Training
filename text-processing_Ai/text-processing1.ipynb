{
 "cells": [
  {
   "cell_type": "markdown",
   "metadata": {
    "id": "3_gxefSzFYeX"
   },
   "source": [
    "#پیش پردازش متن (کتابخانه hazm)"
   ]
  },
  {
   "cell_type": "code",
   "execution_count": null,
   "metadata": {
    "colab": {
     "base_uri": "https://localhost:8080/",
     "height": 983
    },
    "collapsed": true,
    "executionInfo": {
     "elapsed": 11612,
     "status": "ok",
     "timestamp": 1732114798718,
     "user": {
      "displayName": "Arian ghaderi",
      "userId": "07749721859380516600"
     },
     "user_tz": -210
    },
    "id": "7hrstQBnBVfc",
    "outputId": "186bfcba-f5e5-41d7-f9cc-37dcfc4c5e7a"
   },
   "outputs": [],
   "source": [
    "!pip install hazm"
   ]
  },
  {
   "cell_type": "code",
   "execution_count": 16,
   "metadata": {
    "executionInfo": {
     "elapsed": 358,
     "status": "ok",
     "timestamp": 1732116089020,
     "user": {
      "displayName": "Arian ghaderi",
      "userId": "07749721859380516600"
     },
     "user_tz": -210
    },
    "id": "MR3WX_mBFq1M"
   },
   "outputs": [],
   "source": [
    "from hazm import Normalizer , Stemmer , Lemmatizer , sent_tokenize , word_tokenize"
   ]
  },
  {
   "cell_type": "markdown",
   "metadata": {
    "id": "-DXxkjP-J9NY"
   },
   "source": [
    "#این بخش مربوط به قطعه یابیه"
   ]
  },
  {
   "cell_type": "code",
   "execution_count": 3,
   "metadata": {
    "colab": {
     "base_uri": "https://localhost:8080/"
    },
    "executionInfo": {
     "elapsed": 10,
     "status": "ok",
     "timestamp": 1732115183135,
     "user": {
      "displayName": "Arian ghaderi",
      "userId": "07749721859380516600"
     },
     "user_tz": -210
    },
    "id": "QEzGcNPWGDDB",
    "outputId": "b5bb7c2f-3ef7-438d-a4b3-2e4323c6dc35"
   },
   "outputs": [
    {
     "name": "stdout",
     "output_type": "stream",
     "text": [
      "جلسه اموزشی !\n",
      "دومین رویداد دانش اموزی کی برد...\n",
      "با محوریت هوش مصنوعی\n"
     ]
    }
   ],
   "source": [
    "sentence_tokenizer= sent_tokenize(\"جلسه اموزشی ! دومین رویداد دانش اموزی کی‌برد... با محوریت هوش مصنوعی\")\n",
    "\n",
    "for sent_token in sentence_tokenizer:\n",
    "  print(sent_token)"
   ]
  },
  {
   "cell_type": "markdown",
   "metadata": {
    "id": "S3eno5BsHOp5"
   },
   "source": [
    "در اینجا سه جمله تشخیص داده شده"
   ]
  },
  {
   "cell_type": "markdown",
   "metadata": {
    "id": "gETJN9PnJ3Vu"
   },
   "source": [
    "#این بخش مربوط به نرمال سازیه"
   ]
  },
  {
   "cell_type": "code",
   "execution_count": 5,
   "metadata": {
    "colab": {
     "base_uri": "https://localhost:8080/"
    },
    "executionInfo": {
     "elapsed": 2902,
     "status": "ok",
     "timestamp": 1732115491766,
     "user": {
      "displayName": "Arian ghaderi",
      "userId": "07749721859380516600"
     },
     "user_tz": -210
    },
    "id": "WMIEwhj-HU1s",
    "outputId": "3b3d25d9-57b8-464a-c7eb-0b858e114463"
   },
   "outputs": [
    {
     "name": "stdout",
     "output_type": "stream",
     "text": [
      "جلسه‌ی دوم از جلسه‌های دومین رویداد ملی دانش اموزی کی برد، با محوریت هوش مصنوعی، بخش پردازش متن\n"
     ]
    }
   ],
   "source": [
    "print(Normalizer().normalize(\"جلسه ی دوم از جلسه های  دومین رویداد ملی دانش اموزی کی‌برد، با محوریت هوش مصنوعی، بخش پردازش متن\"))"
   ]
  },
  {
   "cell_type": "markdown",
   "metadata": {
    "id": "IO9SnL18IPoX"
   },
   "source": [
    "به فاصله ی و جلسه دقت کن این جز قواعد زبان فارسی و نرمال سازی شده"
   ]
  },
  {
   "cell_type": "markdown",
   "metadata": {
    "id": "LsC7k_GnJ0vg"
   },
   "source": [
    "#این بخش مربوط به ریشه یابیه"
   ]
  },
  {
   "cell_type": "code",
   "execution_count": 14,
   "metadata": {
    "colab": {
     "base_uri": "https://localhost:8080/"
    },
    "executionInfo": {
     "elapsed": 344,
     "status": "ok",
     "timestamp": 1732115840467,
     "user": {
      "displayName": "Arian ghaderi",
      "userId": "07749721859380516600"
     },
     "user_tz": -210
    },
    "id": "oF5QDoCMIhux",
    "outputId": "dc298dc3-67f5-4183-f71e-2e1b43967e0f"
   },
   "outputs": [
    {
     "name": "stdout",
     "output_type": "stream",
     "text": [
      "کتاب \n",
      "برو\n",
      "بیاندازید\n"
     ]
    }
   ],
   "source": [
    "st=Stemmer()\n",
    "print(st.stem(\"کتاب ها\"))\n",
    "print(st.stem(\"برویم\"))\n",
    "print(st.stem(\"بیاندازید\"))"
   ]
  },
  {
   "cell_type": "code",
   "execution_count": 17,
   "metadata": {
    "colab": {
     "base_uri": "https://localhost:8080/",
     "height": 36
    },
    "executionInfo": {
     "elapsed": 2026,
     "status": "ok",
     "timestamp": 1732116093502,
     "user": {
      "displayName": "Arian ghaderi",
      "userId": "07749721859380516600"
     },
     "user_tz": -210
    },
    "id": "gqrs2z7XKA-7",
    "outputId": "18aaabd7-6125-435b-f522-a958efc3d6be"
   },
   "outputs": [
    {
     "data": {
      "application/vnd.google.colaboratory.intrinsic+json": {
       "type": "string"
      },
      "text/plain": [
       "'رفت#رو'"
      ]
     },
     "execution_count": 17,
     "metadata": {},
     "output_type": "execute_result"
    }
   ],
   "source": [
    "lem= Lemmatizer()\n",
    "lem.lemmatize(\"می‌روم\")"
   ]
  },
  {
   "cell_type": "code",
   "execution_count": 18,
   "metadata": {
    "colab": {
     "base_uri": "https://localhost:8080/",
     "height": 36
    },
    "executionInfo": {
     "elapsed": 16,
     "status": "ok",
     "timestamp": 1732116152580,
     "user": {
      "displayName": "Arian ghaderi",
      "userId": "07749721859380516600"
     },
     "user_tz": -210
    },
    "id": "FyhHzLe4Kra0",
    "outputId": "6c1d12c5-a46e-4962-941c-3a08f9de90d5"
   },
   "outputs": [
    {
     "data": {
      "application/vnd.google.colaboratory.intrinsic+json": {
       "type": "string"
      },
      "text/plain": [
       "'کتاب ها'"
      ]
     },
     "execution_count": 18,
     "metadata": {},
     "output_type": "execute_result"
    }
   ],
   "source": [
    "lem.lemmatize(\"کتاب ها\")"
   ]
  },
  {
   "cell_type": "code",
   "execution_count": 20,
   "metadata": {
    "colab": {
     "base_uri": "https://localhost:8080/"
    },
    "executionInfo": {
     "elapsed": 308,
     "status": "ok",
     "timestamp": 1732116239754,
     "user": {
      "displayName": "Arian ghaderi",
      "userId": "07749721859380516600"
     },
     "user_tz": -210
    },
    "id": "G-8JsHzJKxDM",
    "outputId": "8a1dea5e-6841-49cc-84ae-36f14cb3585c"
   },
   "outputs": [
    {
     "name": "stdout",
     "output_type": "stream",
     "text": [
      "می‌رو\n"
     ]
    }
   ],
   "source": [
    "print(st.stem(\"می‌روم\"))"
   ]
  },
  {
   "cell_type": "markdown",
   "metadata": {
    "id": "kbpvF-R1PKxH"
   },
   "source": [
    "#این بخش مثال های کلیه"
   ]
  },
  {
   "cell_type": "code",
   "execution_count": 21,
   "metadata": {
    "colab": {
     "base_uri": "https://localhost:8080/"
    },
    "executionInfo": {
     "elapsed": 3247,
     "status": "ok",
     "timestamp": 1732116526877,
     "user": {
      "displayName": "Arian ghaderi",
      "userId": "07749721859380516600"
     },
     "user_tz": -210
    },
    "id": "AiPWI1elLOyA",
    "outputId": "ee786692-ceaa-401d-e21b-a8a64cbde4fd"
   },
   "outputs": [
    {
     "name": "stdout",
     "output_type": "stream",
     "text": [
      "\n",
      "بیا تا گل بر افشانیم و می‌در ساغر اندازیم\n",
      "فلک را سقف بشکانیم و طرحی نو در اندازیم\n",
      "\n",
      "['بیا', 'تا', 'گل', 'بر', 'افشانیم', 'و', 'می\\u200cدر', 'ساغر', 'اندازیم', 'فلک', 'را', 'سقف', 'بشکانیم', 'و', 'طرحی', 'نو', 'در', 'اندازیم']\n",
      "lemma: بیا\n",
      "stem: بیا\n",
      "lemma: تا\n",
      "stem: تا\n",
      "lemma: گل\n",
      "stem: گل\n",
      "lemma: بر\n",
      "stem: بر\n",
      "lemma: افشاند#افشان\n",
      "stem: افشان\n",
      "lemma: و\n",
      "stem: و\n",
      "lemma: می‌در\n",
      "stem: می‌در\n",
      "lemma: ساغر\n",
      "stem: ساغر\n",
      "lemma: انداخت#انداز\n",
      "stem: انداز\n",
      "lemma: فلک\n",
      "stem: فلک\n",
      "lemma: را\n",
      "stem: را\n",
      "lemma: سقف\n",
      "stem: سقف\n",
      "lemma: شکاند#شکان\n",
      "stem: بشکان\n",
      "lemma: و\n",
      "stem: و\n",
      "lemma: طرح\n",
      "stem: طرح\n",
      "lemma: نو\n",
      "stem: نو\n",
      "lemma: در\n",
      "stem: در\n",
      "lemma: انداخت#انداز\n",
      "stem: انداز\n"
     ]
    }
   ],
   "source": [
    "normalizer=Normalizer()\n",
    "n_t=normalizer.normalize(\"\"\"\n",
    "بیا تا گل بر افشانیم و می در ساغر اندازیم\n",
    "فلک را سقف بشکانیم و طرحی نو در اندازیم\n",
    "\"\"\")\n",
    "print(n_t)\n",
    "\n",
    "w_t=word_tokenize(n_t)\n",
    "print(w_t)\n",
    "\n",
    "for w in w_t:\n",
    "  print(f\"lemma: {lem.lemmatize(w)}\")\n",
    "  print(f\"stem: {st.stem(w)}\")"
   ]
  },
  {
   "cell_type": "code",
   "execution_count": 22,
   "metadata": {
    "colab": {
     "base_uri": "https://localhost:8080/"
    },
    "executionInfo": {
     "elapsed": 2861,
     "status": "ok",
     "timestamp": 1732116949225,
     "user": {
      "displayName": "Arian ghaderi",
      "userId": "07749721859380516600"
     },
     "user_tz": -210
    },
    "id": "9MwxwQwWMsej",
    "outputId": "ae35c662-9ef0-40f4-a05d-045be4c048d3"
   },
   "outputs": [
    {
     "name": "stdout",
     "output_type": "stream",
     "text": [
      "\n",
      "یکی از عقل می‌لافد یکی طامات می‌بافد\n",
      "\n",
      "بیا کاین داوری‌ها را به پیش داور اندازیم\n",
      "\n",
      "['یکی', 'از', 'عقل', 'می\\u200cلافد', 'یکی', 'طامات', 'می\\u200cبافد', 'بیا', 'کاین', 'داوری\\u200cها', 'را', 'به', 'پیش', 'داور', 'اندازیم']\n",
      "lemma: یکی\n",
      "stem : یک\n",
      "lemma: از\n",
      "stem : از\n",
      "lemma: عقل\n",
      "stem : عقل\n",
      "lemma: لافید#لاف\n",
      "stem : می‌لافد\n",
      "lemma: یکی\n",
      "stem : یک\n",
      "lemma: طامات\n",
      "stem : طا\n",
      "lemma: بافت#باف\n",
      "stem : می‌بافد\n",
      "lemma: بیا\n",
      "stem : بیا\n",
      "lemma: کاین\n",
      "stem : کاین\n",
      "lemma: داوری\n",
      "stem : داوری\n",
      "lemma: را\n",
      "stem : را\n",
      "lemma: به\n",
      "stem : به\n",
      "lemma: پیش\n",
      "stem : پ\n",
      "lemma: داور\n",
      "stem : داور\n",
      "lemma: انداخت#انداز\n",
      "stem : انداز\n"
     ]
    }
   ],
   "source": [
    "normalizer=Normalizer()\n",
    "n_t=normalizer.normalize(\"\"\"\n",
    "یکی از عقل می‌لافد یکی طامات می‌بافد\n",
    "\n",
    "بیا کاین داوری‌ها را به پیش داور اندازیم\n",
    "\"\"\")\n",
    "\n",
    "print(n_t)\n",
    "\n",
    "w_t=word_tokenize(n_t)\n",
    "print(w_t)\n",
    "\n",
    "for w in w_t:\n",
    "  print(f\"lemma: {lem.lemmatize(w)}\")\n",
    "  print(f\"stem : {st.stem(w)}\")"
   ]
  }
 ],
 "metadata": {
  "colab": {
   "authorship_tag": "ABX9TyNhFK5wXb76xrYfOlkhpQGy",
   "provenance": []
  },
  "kernelspec": {
   "display_name": "Python 3",
   "name": "python3"
  },
  "language_info": {
   "name": "python"
  }
 },
 "nbformat": 4,
 "nbformat_minor": 0
}
