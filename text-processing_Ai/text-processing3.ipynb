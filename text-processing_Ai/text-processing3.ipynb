{
 "cells": [
  {
   "cell_type": "code",
   "execution_count": null,
   "metadata": {
    "colab": {
     "base_uri": "https://localhost:8080/",
     "height": 983
    },
    "collapsed": true,
    "executionInfo": {
     "elapsed": 12691,
     "status": "ok",
     "timestamp": 1732293561885,
     "user": {
      "displayName": "Arian ghaderi",
      "userId": "07749721859380516600"
     },
     "user_tz": -210
    },
    "id": "wAYAnSNdfSg-",
    "outputId": "7f0049ed-23ef-40de-bfc7-fb0749ece9b8"
   },
   "outputs": [],
   "source": [
    "!pip install hazm"
   ]
  },
  {
   "cell_type": "code",
   "execution_count": 1,
   "metadata": {
    "colab": {
     "base_uri": "https://localhost:8080/"
    },
    "executionInfo": {
     "elapsed": 3511,
     "status": "ok",
     "timestamp": 1732295261952,
     "user": {
      "displayName": "Arian ghaderi",
      "userId": "07749721859380516600"
     },
     "user_tz": -210
    },
    "id": "xah5ApH8vkNQ",
    "outputId": "206e2f3d-936d-4098-8049-3798eebed0ed"
   },
   "outputs": [
    {
     "name": "stdout",
     "output_type": "stream",
     "text": [
      "بردار کلمه شیر\n",
      "[-8.6244084e-03  3.6660081e-03  5.1921923e-03  5.7491604e-03\n",
      "  7.4761165e-03 -6.1893831e-03  1.1150864e-03  6.0711624e-03\n",
      " -2.8437865e-03 -6.1892429e-03 -4.0249387e-04 -8.3879903e-03\n",
      " -5.6088739e-03  7.1173473e-03  3.3572393e-03  7.2285761e-03\n",
      "  6.8025952e-03  7.5335889e-03 -3.7942315e-03 -5.7509396e-04\n",
      "  2.3480570e-03 -4.5233201e-03  8.3964961e-03 -9.8732170e-03\n",
      "  6.7682625e-03  2.9031064e-03 -4.9425317e-03  4.3975418e-03\n",
      " -1.7440682e-03  6.7079994e-03  9.9736061e-03 -4.3646484e-03\n",
      " -5.8340712e-04 -5.7097310e-03  3.8500256e-03  2.7889416e-03\n",
      "  6.8989852e-03  6.1071478e-03  9.5442412e-03  9.2661334e-03\n",
      "  7.8984033e-03 -6.9941562e-03 -9.1712307e-03 -3.5225795e-04\n",
      " -3.0996727e-03  7.8953011e-03  5.9363469e-03 -1.5373618e-03\n",
      "  1.5137295e-03  1.8001864e-03  7.8193871e-03 -9.5148161e-03\n",
      " -1.9696944e-04  3.4738528e-03 -9.2895713e-04  8.3880806e-03\n",
      "  9.0261018e-03  6.5329610e-03 -7.0929690e-04  7.7289278e-03\n",
      " -8.5417675e-03  3.2033802e-03 -4.6394705e-03 -5.0943573e-03\n",
      "  3.5817598e-03  5.3784717e-03  7.7724159e-03 -5.7607605e-03\n",
      "  7.4313921e-03  6.6269538e-03 -3.7022412e-03 -8.7502822e-03\n",
      "  5.4540960e-03  6.5207132e-03 -7.7844807e-04 -6.7172372e-03\n",
      " -7.0789624e-03 -2.5013641e-03  5.1444913e-03 -3.6741933e-03\n",
      " -9.3776388e-03  3.8393263e-03  4.8907027e-03 -6.4281151e-03\n",
      "  1.2080205e-03 -2.0685953e-03  3.5147936e-05 -9.8936018e-03\n",
      "  2.7045123e-03 -4.7451807e-03  1.0975633e-03 -1.5705368e-03\n",
      "  2.2034245e-03 -7.8782160e-03 -2.7065959e-03  2.6789482e-03\n",
      "  5.3340686e-03 -2.3965440e-03 -9.5083164e-03  4.5041963e-03]\n"
     ]
    }
   ],
   "source": [
    "import logging\n",
    "from gensim.models import Word2Vec\n",
    "from hazm import Normalizer, word_tokenize\n",
    "\n",
    "#فعالسازی لاگینگ برای نمایش پیشرفت اموزش مدل\n",
    "logging.basicConfig(format='%(asctime)s: %(levelname)s : %(message)s',level=logging.INFO)\n",
    "\n",
    "#لیست جملات\n",
    "documents=[\"ببر و شیر از بزرگترین گربه‌سانان هستند\",\n",
    "           \"شیر به خاطر بدن بزرگ و هیبت و چالاکیش در هنگام شکار لقب <<سلطان جنگل>> را به خود گرفته اگرچه بیشتر در مناطق گرم دشت افریقا زندگی می‌کمد\",\n",
    "           \"دو توله شیر سفید افریقایی که سال 98 وارد کشور شدند. اکنون حدود 9 ماه دارند و در باغ وحش ارم نگهداری می شود\",\n",
    "           \"نوشیدن روزانه ی شیر فواید زیادی برای سلامتی دارد\"]\n",
    "\n",
    "\n",
    "#نرمال ساز\n",
    "normalizer=Normalizer()\n",
    "\n",
    "#پیش پردازش و توکن سازی جملات\n",
    "normalized_doc= [normalizer.normalize(doc) for doc in documents]\n",
    "tokenized_doc= [word_tokenize(doc) for doc in normalized_doc]\n",
    "\n",
    "#اموزش مدل word2vec\n",
    "model= Word2Vec(sentences= tokenized_doc,vector_size=100,window=5,min_count=1,workers=4)\n",
    "      #جملات    1\n",
    "      #سایز بردار بازنمایی متراکم (هرچه بیشتر باشه فیچر بیشتر استخراج میکنه که همیشه باید ی چیز بینابین باشه)  2\n",
    "      #3  تعداد پنجره\n",
    "      #4,5  مربوط به بحث پرسسوری\n",
    "\n",
    "\n",
    "#نمایش بردار امبدینگ کلمه شیر\n",
    "print(\"بردار کلمه شیر\")\n",
    "print(model.wv['شیر'])\n",
    "\n",
    "#ذخیره مدل اموزش دیده\n",
    "model.save(\"persian_word2vec.model\")"
   ]
  },
  {
   "cell_type": "code",
   "execution_count": 2,
   "metadata": {
    "colab": {
     "base_uri": "https://localhost:8080/",
     "height": 411
    },
    "collapsed": true,
    "executionInfo": {
     "elapsed": 77556,
     "status": "ok",
     "timestamp": 1732295479006,
     "user": {
      "displayName": "Arian ghaderi",
      "userId": "07749721859380516600"
     },
     "user_tz": -210
    },
    "id": "QVket-rn2dg5",
    "outputId": "b296c5fb-853b-4dee-ad73-75b1e462bbfe"
   },
   "outputs": [
    {
     "name": "stdout",
     "output_type": "stream",
     "text": [
      "Collecting fasttext\n",
      "  Downloading fasttext-0.9.3.tar.gz (73 kB)\n",
      "\u001b[?25l     \u001b[90m━━━━━━━━━━━━━━━━━━━━━━━━━━━━━━━━━━━━━━━━\u001b[0m \u001b[32m0.0/73.4 kB\u001b[0m \u001b[31m?\u001b[0m eta \u001b[36m-:--:--\u001b[0m\r\u001b[2K     \u001b[90m━━━━━━━━━━━━━━━━━━━━━━━━━━━━━━━━━━━━━━━━\u001b[0m \u001b[32m73.4/73.4 kB\u001b[0m \u001b[31m2.3 MB/s\u001b[0m eta \u001b[36m0:00:00\u001b[0m\n",
      "\u001b[?25h  Installing build dependencies ... \u001b[?25l\u001b[?25hdone\n",
      "  Getting requirements to build wheel ... \u001b[?25l\u001b[?25hdone\n",
      "  Preparing metadata (pyproject.toml) ... \u001b[?25l\u001b[?25hdone\n",
      "Requirement already satisfied: pybind11>=2.2 in /usr/local/lib/python3.10/dist-packages (from fasttext) (2.13.6)\n",
      "Requirement already satisfied: setuptools>=0.7.0 in /usr/local/lib/python3.10/dist-packages (from fasttext) (75.1.0)\n",
      "Requirement already satisfied: numpy in /usr/local/lib/python3.10/dist-packages (from fasttext) (1.24.3)\n",
      "Building wheels for collected packages: fasttext\n",
      "  Building wheel for fasttext (pyproject.toml) ... \u001b[?25l\u001b[?25hdone\n",
      "  Created wheel for fasttext: filename=fasttext-0.9.3-cp310-cp310-linux_x86_64.whl size=4296189 sha256=bb723e0d9a2f1afb4fde4983c3cb2bea9c94919f608db2a7dcc29084b4525336\n",
      "  Stored in directory: /root/.cache/pip/wheels/0d/a2/00/81db54d3e6a8199b829d58e02cec2ddb20ce3e59fad8d3c92a\n",
      "Successfully built fasttext\n",
      "Installing collected packages: fasttext\n",
      "Successfully installed fasttext-0.9.3\n"
     ]
    },
    {
     "data": {
      "application/vnd.colab-display-data+json": {
       "id": "9372127c3a2740aeaeeb1700a471fbc0",
       "pip_warning": {
        "packages": [
         "fasttext",
         "fasttext_pybind"
        ]
       }
      }
     },
     "metadata": {},
     "output_type": "display_data"
    }
   ],
   "source": [
    "!pip install fasttext"
   ]
  },
  {
   "cell_type": "markdown",
   "metadata": {
    "id": "blzV5Woh24RF"
   },
   "source": [
    "خب اینجا میخاییم روی  fasttext انجام بدیم"
   ]
  },
  {
   "cell_type": "markdown",
   "metadata": {
    "id": "kAuy_WcZ39j6"
   },
   "source": [
    "فست تکست متن بازه"
   ]
  },
  {
   "cell_type": "code",
   "execution_count": null,
   "metadata": {
    "id": "VwznEAWo3CQY"
   },
   "outputs": [],
   "source": [
    "import fasttext\n",
    "import fasttext.util\n",
    "from hazm import Normalizer\n",
    "import numpy as np\n",
    "from sklearn.decomposition import PCA\n",
    "import matplotlib.pyplot as plt\n",
    "\n",
    "#download the persian fasttext model\n",
    "fasttext.util.download_model('fa',if_exists=\"ignore\")\n",
    "\n",
    "\n",
    "#load the model\n",
    "model= fasttext.load_model('cc.fa.300.bin')\n",
    "\n",
    "#initialize persian text normalizer\n",
    "normalizer= Normalizer()\n",
    "\n",
    "def get_word_vector(word):\n",
    "  normalized_word=normalizer.normalize(word)\n",
    "  return model.get_word_vector(normalized_word)\n",
    "\n",
    "\n",
    "def visualize_word_embeddings(words):\n",
    "  #get word vectors\n",
    "  word_vectors= np.array([get_word_vector(word) for word in words])\n",
    "\n",
    "  #redius dimensionality to 2D useing PCA\n",
    "  #روش پی سی ای برای دو بعدی کردن طبیعتا یه بخشی از داده از بین میره\n",
    "  pca=PCA(n_components=2)\n",
    "  word_vector_2d= pca.fit_transform(word_vectors)\n",
    "\n",
    "  #plot the words\n",
    "  plt.figure(figesize=(12,8))\n",
    "  plt.scatter(word_vector_2d[:,0],word_vector_2d[:,1],marker=\"o\")\n",
    "\n",
    "  #add word labels to the plot\n",
    "  for i,word in enumerate(words):\n",
    "    plt.annotate(word,(word_vector_2d[i,0], word_vector_2d[i,1]),fontsize=0)\n",
    "\n",
    "  plt.titel(\"Persian Word Embeddings Visualization\")\n",
    "  plt.xlabel(\"First principal Component\")\n",
    "  plt.ylabel(\"Second principal Component\")\n",
    "  plt.grid(True)\n",
    "\n",
    "\n",
    "  #add text explanation     (بحث زیباییه زیاد مهم نی)\n",
    "  plt.text(0.05,0.05,\"Words that are closer together in this plot have more similar meanings according to the fasttext model.\",\n",
    "           transform=plt.gca.transAxes,fontsize=9,verticalalignment='bottom')\n",
    "  plt.tight_layout()\n",
    "  plt.show()\n",
    "\n",
    "\n",
    "#exampel usage with a mix of word\n",
    "persian_words=[\"کتاب\",\n",
    "               \"مجله\",\n",
    "               \"روزنامه\",\n",
    "               \"قلم\",\n",
    "               \"کاغذ\",\n",
    "               \"مدرسه\",\n",
    "               \"دانشگاه\",\n",
    "               \"دانش\",\n",
    "               \"ماشین\",\n",
    "               \"اتوبوس\",\n",
    "               \"دوچرخه\",\n",
    "               \"غذا\",\n",
    "               \"اب\",\n",
    "               \"هوا\",\n",
    "               \"زمین\"]\n",
    "\n",
    "visualize_word_embeddings(persian_words)"
   ]
  },
  {
   "cell_type": "code",
   "execution_count": 2,
   "metadata": {
    "colab": {
     "base_uri": "https://localhost:8080/"
    },
    "executionInfo": {
     "elapsed": 12260,
     "status": "ok",
     "timestamp": 1732298206891,
     "user": {
      "displayName": "Arian ghaderi",
      "userId": "07749721859380516600"
     },
     "user_tz": -210
    },
    "id": "RX3d42OdAzC7",
    "outputId": "d7b10c0b-b43b-4f52-c752-be561dca6fab"
   },
   "outputs": [
    {
     "name": "stdout",
     "output_type": "stream",
     "text": [
      "بردار کلمه شیر\n",
      "[-1.2556983e-03 -3.6090877e-04  1.3299880e-03 -1.5113958e-03\n",
      "  1.4843381e-03  3.5023228e-03 -8.7301909e-05  2.5393909e-03\n",
      " -5.5496679e-03  2.5543382e-03 -1.1613303e-03 -3.5655312e-04\n",
      " -3.6893522e-03  4.1935015e-03  8.2855060e-04 -4.4681571e-04\n",
      " -2.7262853e-03  3.8359459e-03  3.1601917e-03 -3.2531689e-03\n",
      "  3.0154185e-04 -5.8776687e-04  2.3710968e-04  2.4198215e-04\n",
      " -5.9797999e-04  1.9313399e-03 -8.4666407e-04  2.9676328e-03\n",
      " -5.1586293e-03 -3.4705300e-03 -1.0675795e-03 -7.2569586e-04\n",
      "  2.2440800e-03 -7.9428649e-04  9.8960765e-04  2.4658017e-04\n",
      " -3.7067770e-05 -7.0743059e-04  3.0906638e-04  2.8088265e-03\n",
      "  3.4439245e-03 -3.9901919e-04  2.6888826e-03 -1.6706161e-03\n",
      " -2.7205688e-03 -3.5617079e-03  1.2839666e-04 -1.9479344e-04\n",
      " -3.6495313e-04 -1.6650102e-03  4.2313179e-03 -2.8111201e-04\n",
      " -1.6570360e-03  4.0193181e-04  7.2608102e-04 -2.3523581e-03\n",
      "  8.9927111e-04  4.9513200e-04 -2.3203196e-03 -8.6829870e-04\n",
      " -1.7223824e-03 -5.2395568e-04 -3.1575356e-03  1.8616825e-03\n",
      " -1.2630086e-03  9.4421196e-04 -8.1195508e-04 -1.3975842e-03\n",
      " -3.5402339e-04  7.1502459e-04 -3.6046416e-03 -2.7055645e-04\n",
      " -2.0228925e-03  2.1148331e-03  8.7549357e-04 -3.9698333e-03\n",
      " -3.2324749e-03 -8.2909007e-04 -1.1747445e-03  1.0072737e-03\n",
      " -4.0183440e-03  1.9984308e-03  1.0796969e-03 -1.1860707e-03\n",
      " -3.1294895e-03  5.6190166e-04  1.9587586e-03 -8.7247218e-04\n",
      "  3.8655144e-03  5.8507372e-04 -2.5419309e-03  2.0669005e-03\n",
      "  5.8241854e-03  2.5515218e-04  1.7366270e-03  2.9399074e-04\n",
      "  1.9613323e-03  2.2803972e-04 -7.6751417e-04  1.1029470e-03]\n"
     ]
    }
   ],
   "source": [
    "import logging\n",
    "from gensim.models import FastText\n",
    "from hazm import Normalizer, word_tokenize\n",
    "\n",
    "#فعالسازی لاگینگ برای نمایش پیشرفت اموزش مدل\n",
    "logging.basicConfig(format='%(asctime)s: %(levelname)s : %(message)s',level=logging.INFO)\n",
    "\n",
    "#لیست جملات\n",
    "documents=[\"ببر و شیر از بزرگترین گربه‌سانان هستند\",\n",
    "           \"شیر به خاطر بدن بزرگ و هیبت و چالاکیش در هنگام شکار لقب <<سلطان جنگل>> را به خود گرفته اگرچه بیشتر در مناطق گرم دشت افریقا زندگی می‌کمد\",\n",
    "           \"دو توله شیر سفید افریقایی که سال 98 وارد کشور شدند. اکنون حدود 9 ماه دارند و در باغ وحش ارم نگهداری می شود\",\n",
    "           \"نوشیدن روزانه ی شیر فواید زیادی برای سلامتی دارد\"]\n",
    "\n",
    "\n",
    "#نرمال ساز\n",
    "normalizer=Normalizer()\n",
    "\n",
    "#پیش پردازش و توکن سازی جملات\n",
    "normalized_doc= [normalizer.normalize(doc) for doc in documents]\n",
    "tokenized_doc= [word_tokenize(doc) for doc in normalized_doc]\n",
    "\n",
    "#اموزش مدل fasttext\n",
    "model= FastText(sentences= tokenized_doc,vector_size=100,window=5,min_count=1,workers=4)\n",
    "\n",
    "\n",
    "\n",
    "#نمایش بردار امبدینگ کلمه شیر\n",
    "print(\"بردار کلمه شیر\")\n",
    "print(model.wv['شیر'])\n",
    "\n",
    "#ذخیره مدل اموزش دیده\n",
    "model.save(\"persian_FastText.model\")"
   ]
  }
 ],
 "metadata": {
  "colab": {
   "authorship_tag": "ABX9TyMWii+pJo8EpP6PKgKhcqfq",
   "mount_file_id": "13E5rqCcHWIDl7Nj1kt9v4SpS0wUQLGBw",
   "provenance": []
  },
  "kernelspec": {
   "display_name": "Python 3",
   "name": "python3"
  },
  "language_info": {
   "name": "python"
  }
 },
 "nbformat": 4,
 "nbformat_minor": 0
}
