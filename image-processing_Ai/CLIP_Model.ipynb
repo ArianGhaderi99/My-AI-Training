{
 "cells": [
  {
   "cell_type": "markdown",
   "metadata": {
    "id": "9DAzyUOIosS-"
   },
   "source": [
    "##https://github.com/openai/CLIP"
   ]
  },
  {
   "cell_type": "code",
   "execution_count": null,
   "metadata": {
    "colab": {
     "base_uri": "https://localhost:8080/"
    },
    "collapsed": true,
    "executionInfo": {
     "elapsed": 6349,
     "status": "ok",
     "timestamp": 1737290441200,
     "user": {
      "displayName": "Arian ghaderi",
      "userId": "07749721859380516600"
     },
     "user_tz": -210
    },
    "id": "uqVc8Fvfk4Cu",
    "outputId": "a200c149-9927-495a-b99a-57b70ac6e715"
   },
   "outputs": [],
   "source": [
    "! pip install git+https://github.com/openai/CLIP.git"
   ]
  },
  {
   "cell_type": "code",
   "execution_count": null,
   "metadata": {
    "id": "1BfIVvablUCm"
   },
   "outputs": [],
   "source": [
    "import torch\n",
    "from torchvision.datasets import FGVCAircraft     #fjvc aircraft      هواپیما\n",
    "\n",
    "import torchvision.transforms as transforms\n",
    "\n",
    "from torch.utils.data import DataLoader"
   ]
  },
  {
   "cell_type": "code",
   "execution_count": null,
   "metadata": {
    "colab": {
     "base_uri": "https://localhost:8080/"
    },
    "collapsed": true,
    "executionInfo": {
     "elapsed": 80485,
     "status": "ok",
     "timestamp": 1737292334568,
     "user": {
      "displayName": "Arian ghaderi",
      "userId": "07749721859380516600"
     },
     "user_tz": -210
    },
    "id": "CTdoPx_bmN8k",
    "outputId": "c55af314-a192-4558-dc7b-284cf48a4601"
   },
   "outputs": [
    {
     "name": "stdout",
     "output_type": "stream",
     "text": [
      "Downloading https://www.robots.ox.ac.uk/~vgg/data/fgvc-aircraft/archives/fgvc-aircraft-2013b.tar.gz to /content/drive/MyDrive/Colab Notebooks/data/fgvc-aircraft-2013b.tar.gz\n"
     ]
    },
    {
     "name": "stderr",
     "output_type": "stream",
     "text": [
      "100%|██████████| 2.75G/2.75G [01:56<00:00, 23.7MB/s]\n"
     ]
    },
    {
     "name": "stdout",
     "output_type": "stream",
     "text": [
      "Extracting /content/drive/MyDrive/Colab Notebooks/data/fgvc-aircraft-2013b.tar.gz to /content/drive/MyDrive/Colab Notebooks/data\n"
     ]
    }
   ],
   "source": [
    "transforms=transforms.Compose([     #تصاویر در زمان اموزش مدل 224 در 224 بودند پس ما هم این ری سایز رو  انجام میدیم\n",
    "    transforms.Resize((224,224)),\n",
    "                 transforms.ToTensor(),\n",
    "                         transforms.Normalize([0.485,0.456,0.406],[0.229,0.224,0.225 ])       #\n",
    "                           ])\n",
    "#در ادامه تبدیل به تنسور میکنیم و با تجه به مقادیر لازم که در داکیومنت خود مدل هست نرمالایز میکنیم\n",
    "\n",
    "\n",
    "train_set=FGVCAircraft(root=\"/content/drive/MyDrive/Colab Notebooks/data\",split=\"train\", transform=transforms,download=True)\n",
    "#در اینجا داریم بخش ترین دیتاست رو دانلود میکنیم و ادرس دانلود ترنسفور های لازم رو انجام میدهیم\n",
    "\n",
    "\n",
    "train_loader=DataLoader(train_set,batch_size=32,shuffle=True)\n",
    "#استفاده از دیتا لودر برای تنظیم بچ و شافل تورو برای داده اموزس تا مدل بهتر اموزش ببینه\n",
    "\n",
    "\n",
    "test_set=FGVCAircraft(root=\"/content/drive/MyDrive/Colab Notebooks/data\",split=\"test\", transform=transforms,download=True)\n",
    "#در اینجا داریم بخش تست دیتاست رو دانلود میکنیم و ادرس دانلود ترنسفور های لازم رو انجام میدهیم\n",
    "\n",
    "test_loader=DataLoader(train_set,batch_size=32,)\n",
    "#استفاده از دیتا لودر برای تنظیم بچ و شافل نیازی نیست\n",
    "\n"
   ]
  },
  {
   "cell_type": "code",
   "execution_count": null,
   "metadata": {
    "colab": {
     "base_uri": "https://localhost:8080/"
    },
    "executionInfo": {
     "elapsed": 9337,
     "status": "ok",
     "timestamp": 1737292469683,
     "user": {
      "displayName": "Arian ghaderi",
      "userId": "07749721859380516600"
     },
     "user_tz": -210
    },
    "id": "p88UbMCOrcXb",
    "outputId": "a0887c58-1f1b-46b3-9519-cd2aa445761f"
   },
   "outputs": [
    {
     "name": "stderr",
     "output_type": "stream",
     "text": [
      "100%|████████████████████████████████████████| 338M/338M [00:03<00:00, 103MiB/s]\n"
     ]
    }
   ],
   "source": [
    "import clip\n",
    "\n",
    "\n",
    "device=\"cuda\"  if torch.cuda.is_available() else \"cpu\"\n",
    " #ایا جی پی یو وجود داره یا نه اگه داره روی جی پی یو اجرا شه در غیر این صورت از سی پی یو استفاده میکنیم\n",
    "\n",
    "model, preprocess = clip.load('ViT-B/32', device)\n",
    "#لود کردن مدل کلیپ(میتونه نسخه های  دیگشم باشه)\n"
   ]
  },
  {
   "cell_type": "markdown",
   "metadata": {
    "id": "vojcE1yxs9Hq"
   },
   "source": [
    "#استفاده از انکودر تصویر کلیپ برای دسته بندی تصویر"
   ]
  },
  {
   "cell_type": "code",
   "execution_count": null,
   "metadata": {
    "id": "fnqrFEh_s8vl"
   },
   "outputs": [],
   "source": [
    "from tqdm import tqdm   #مخفف تقدم برای نمایش قشنگتر یک پروگرس بار\n",
    "\n",
    "\n",
    "def get_features(data_loader):\n",
    "    all_features = []\n",
    "    all_labels = []\n",
    "\n",
    "    with torch.no_grad():\n",
    "        for images, labels in tqdm(data_loader):\n",
    "            features = model.encode_image(images.to(device))           #به ازای هر بچ تصاویر رو میفرستیم به دیوایس و انکد میکنه\n",
    "\n",
    "            all_features.append(features)                   #ذخیره کردن ویژگی ها\n",
    "            all_labels.append(labels)                       #ذخیره کردن لیبل ها\n",
    "\n",
    "    return torch.cat(all_features).cpu().numpy(), torch.cat(all_labels).cpu().numpy()"
   ]
  },
  {
   "cell_type": "code",
   "execution_count": null,
   "metadata": {
    "id": "c6IYj3VauKx3"
   },
   "outputs": [],
   "source": [
    "for x,y in train_loader:\n",
    "  break\n",
    "\n",
    "#خوندن یک بچ از دیتا"
   ]
  },
  {
   "cell_type": "code",
   "execution_count": null,
   "metadata": {
    "colab": {
     "base_uri": "https://localhost:8080/"
    },
    "executionInfo": {
     "elapsed": 341,
     "status": "ok",
     "timestamp": 1737293348400,
     "user": {
      "displayName": "Arian ghaderi",
      "userId": "07749721859380516600"
     },
     "user_tz": -210
    },
    "id": "PSwspdO9wC8l",
    "outputId": "37a97ea0-7b0f-40ba-e079-ed45c094e245"
   },
   "outputs": [
    {
     "data": {
      "text/plain": [
       "['707-320',\n",
       " '727-200',\n",
       " '737-200',\n",
       " '737-300',\n",
       " '737-400',\n",
       " '737-500',\n",
       " '737-600',\n",
       " '737-700',\n",
       " '737-800',\n",
       " '737-900',\n",
       " '747-100',\n",
       " '747-200',\n",
       " '747-300',\n",
       " '747-400',\n",
       " '757-200',\n",
       " '757-300',\n",
       " '767-200',\n",
       " '767-300',\n",
       " '767-400',\n",
       " '777-200',\n",
       " '777-300',\n",
       " 'A300B4',\n",
       " 'A310',\n",
       " 'A318',\n",
       " 'A319',\n",
       " 'A320',\n",
       " 'A321',\n",
       " 'A330-200',\n",
       " 'A330-300',\n",
       " 'A340-200',\n",
       " 'A340-300',\n",
       " 'A340-500',\n",
       " 'A340-600',\n",
       " 'A380',\n",
       " 'ATR-42',\n",
       " 'ATR-72',\n",
       " 'An-12',\n",
       " 'BAE 146-200',\n",
       " 'BAE 146-300',\n",
       " 'BAE-125',\n",
       " 'Beechcraft 1900',\n",
       " 'Boeing 717',\n",
       " 'C-130',\n",
       " 'C-47',\n",
       " 'CRJ-200',\n",
       " 'CRJ-700',\n",
       " 'CRJ-900',\n",
       " 'Cessna 172',\n",
       " 'Cessna 208',\n",
       " 'Cessna 525',\n",
       " 'Cessna 560',\n",
       " 'Challenger 600',\n",
       " 'DC-10',\n",
       " 'DC-3',\n",
       " 'DC-6',\n",
       " 'DC-8',\n",
       " 'DC-9-30',\n",
       " 'DH-82',\n",
       " 'DHC-1',\n",
       " 'DHC-6',\n",
       " 'DHC-8-100',\n",
       " 'DHC-8-300',\n",
       " 'DR-400',\n",
       " 'Dornier 328',\n",
       " 'E-170',\n",
       " 'E-190',\n",
       " 'E-195',\n",
       " 'EMB-120',\n",
       " 'ERJ 135',\n",
       " 'ERJ 145',\n",
       " 'Embraer Legacy 600',\n",
       " 'Eurofighter Typhoon',\n",
       " 'F-16A/B',\n",
       " 'F/A-18',\n",
       " 'Falcon 2000',\n",
       " 'Falcon 900',\n",
       " 'Fokker 100',\n",
       " 'Fokker 50',\n",
       " 'Fokker 70',\n",
       " 'Global Express',\n",
       " 'Gulfstream IV',\n",
       " 'Gulfstream V',\n",
       " 'Hawk T1',\n",
       " 'Il-76',\n",
       " 'L-1011',\n",
       " 'MD-11',\n",
       " 'MD-80',\n",
       " 'MD-87',\n",
       " 'MD-90',\n",
       " 'Metroliner',\n",
       " 'Model B200',\n",
       " 'PA-28',\n",
       " 'SR-20',\n",
       " 'Saab 2000',\n",
       " 'Saab 340',\n",
       " 'Spitfire',\n",
       " 'Tornado',\n",
       " 'Tu-134',\n",
       " 'Tu-154',\n",
       " 'Yak-42']"
      ]
     },
     "execution_count": 12,
     "metadata": {},
     "output_type": "execute_result"
    }
   ],
   "source": [
    "train_set.classes                               #کلاس هاییه که داریم اسم هواپیماس\n",
    "\n",
    "# len(train_set.classes) -> 100"
   ]
  },
  {
   "cell_type": "code",
   "execution_count": null,
   "metadata": {
    "colab": {
     "base_uri": "https://localhost:8080/"
    },
    "executionInfo": {
     "elapsed": 7,
     "status": "ok",
     "timestamp": 1737292988632,
     "user": {
      "displayName": "Arian ghaderi",
      "userId": "07749721859380516600"
     },
     "user_tz": -210
    },
    "id": "lkPsN9EqusEe",
    "outputId": "88f101ef-0c95-4286-ce81-4d6750233934"
   },
   "outputs": [
    {
     "data": {
      "text/plain": [
       "torch.Size([32, 3, 224, 224])"
      ]
     },
     "execution_count": 9,
     "metadata": {},
     "output_type": "execute_result"
    }
   ],
   "source": [
    "x.shape"
   ]
  },
  {
   "cell_type": "markdown",
   "metadata": {
    "id": "gy6hOJ6Fu1zr"
   },
   "source": [
    "سی دوتا تصویر 3 کاناله با ابعاد (ری سایز شده) دویست بیست چهار در دویست بیست چهار"
   ]
  },
  {
   "cell_type": "code",
   "execution_count": null,
   "metadata": {
    "colab": {
     "base_uri": "https://localhost:8080/"
    },
    "executionInfo": {
     "elapsed": 9,
     "status": "ok",
     "timestamp": 1737293083810,
     "user": {
      "displayName": "Arian ghaderi",
      "userId": "07749721859380516600"
     },
     "user_tz": -210
    },
    "id": "Ph75qgMZvGRv",
    "outputId": "d61f6998-bbd0-4172-8a3d-8068eefc1f8f"
   },
   "outputs": [
    {
     "data": {
      "text/plain": [
       "torch.Size([32])"
      ]
     },
     "execution_count": 10,
     "metadata": {},
     "output_type": "execute_result"
    }
   ],
   "source": [
    "y.shape"
   ]
  },
  {
   "cell_type": "markdown",
   "metadata": {
    "id": "7pwbPAOkvLul"
   },
   "source": [
    "سی و دوتا عدده که هر کدوم مربوط به یک کلاسه"
   ]
  },
  {
   "cell_type": "code",
   "execution_count": null,
   "metadata": {
    "colab": {
     "base_uri": "https://localhost:8080/"
    },
    "executionInfo": {
     "elapsed": 1410,
     "status": "ok",
     "timestamp": 1737293177488,
     "user": {
      "displayName": "Arian ghaderi",
      "userId": "07749721859380516600"
     },
     "user_tz": -210
    },
    "id": "3wHLu6YdvEXb",
    "outputId": "988cbd24-fbea-429a-d063-1b8883a5432f"
   },
   "outputs": [
    {
     "data": {
      "text/plain": [
       "torch.Size([32, 512])"
      ]
     },
     "execution_count": 11,
     "metadata": {},
     "output_type": "execute_result"
    }
   ],
   "source": [
    "f=model.encode_image(x.to(device))\n",
    "f.shape"
   ]
  },
  {
   "cell_type": "markdown",
   "metadata": {
    "id": "96GX9U4Gvivn"
   },
   "source": [
    "سی و دوتا تصویر که از هر کدوم 512 تا ویژگی استخراج کرده برای هر تصویر یک بردار امبدینگ 512 بعدی داریم"
   ]
  },
  {
   "cell_type": "code",
   "execution_count": null,
   "metadata": {
    "colab": {
     "base_uri": "https://localhost:8080/"
    },
    "executionInfo": {
     "elapsed": 127718,
     "status": "ok",
     "timestamp": 1737293775176,
     "user": {
      "displayName": "Arian ghaderi",
      "userId": "07749721859380516600"
     },
     "user_tz": -210
    },
    "id": "Ffkyf70swr4G",
    "outputId": "88f0c057-00f3-411a-edae-c19235f3a1c2"
   },
   "outputs": [
    {
     "name": "stderr",
     "output_type": "stream",
     "text": [
      "100%|██████████| 105/105 [01:06<00:00,  1.58it/s]\n",
      "100%|██████████| 105/105 [01:01<00:00,  1.72it/s]\n"
     ]
    }
   ],
   "source": [
    "# Calculate the image features\n",
    "#محاسبه ویژگی تصاویر برای هر دو مجموعه تست و ترین\n",
    "\n",
    "train_features, train_labels = get_features(train_loader)\n",
    "test_features, test_labels = get_features(test_loader)"
   ]
  },
  {
   "cell_type": "code",
   "execution_count": null,
   "metadata": {
    "colab": {
     "base_uri": "https://localhost:8080/"
    },
    "executionInfo": {
     "elapsed": 460,
     "status": "ok",
     "timestamp": 1737294410690,
     "user": {
      "displayName": "Arian ghaderi",
      "userId": "07749721859380516600"
     },
     "user_tz": -210
    },
    "id": "CdzZ1_nFzCYd",
    "outputId": "b2c9bec1-713e-46c1-bfaa-fef553c54d5e"
   },
   "outputs": [
    {
     "name": "stdout",
     "output_type": "stream",
     "text": [
      "(3334, 512)\n",
      "(3334, 512)\n"
     ]
    }
   ],
   "source": [
    "print(train_features.shape)\n",
    "\n",
    "#3334 تصویر\n",
    "#به ازای هر کدوم یک بردار 512 بعدی امبدینگ\n",
    "\n",
    "\n",
    "print(test_features.shape)\n",
    "\n",
    "\n",
    "#3334 تصویر\n",
    "#به ازای هر کدوم یک بردار 512 بعدی امبدینگ\n"
   ]
  },
  {
   "cell_type": "code",
   "execution_count": null,
   "metadata": {
    "colab": {
     "base_uri": "https://localhost:8080/"
    },
    "executionInfo": {
     "elapsed": 18270,
     "status": "ok",
     "timestamp": 1737294550842,
     "user": {
      "displayName": "Arian ghaderi",
      "userId": "07749721859380516600"
     },
     "user_tz": -210
    },
    "id": "qen__Tblx3Nc",
    "outputId": "7a5e6749-b91b-4c6c-dca9-8e18617b7453"
   },
   "outputs": [
    {
     "name": "stdout",
     "output_type": "stream",
     "text": [
      "Accuracy = 91.422\n"
     ]
    }
   ],
   "source": [
    "import numpy as np\n",
    "from sklearn.linear_model import LogisticRegression\n",
    "\n",
    "\n",
    "# Perform logistic regression\n",
    "#استفاده از مدل لاجستیک رگرسیون (مدل یادگیری ماشین) و فیت کردن روی خروجی انکودر مدل کلیپ\n",
    "classifier = LogisticRegression(random_state=0, C=0.316, max_iter=1000, verbose=1)\n",
    "classifier.fit(train_features, train_labels)\n",
    "#از مدل های دیگر یادگیری ماشین برای دسته بندی همچون درخت تصمیم جنگل تصادفی و ... استفاده کرد\n",
    "\n",
    "# Evaluate using the logistic regression classifier\n",
    "#گرفتن خروجی (پیش بینی برچسب کلاس) از داده تست و به دست اوردن اکیوریسی و دقت مدل\n",
    "predictions = classifier.predict(test_features)\n",
    "accuracy = np.mean((test_labels == predictions).astype(float)) * 100.\n",
    "print(f\"Accuracy = {accuracy:.3f}\")"
   ]
  },
  {
   "cell_type": "markdown",
   "metadata": {
    "id": "aPxIcAuo08pw"
   },
   "source": [
    "#zero shot learning"
   ]
  },
  {
   "cell_type": "code",
   "execution_count": 27,
   "metadata": {
    "executionInfo": {
     "elapsed": 512,
     "status": "ok",
     "timestamp": 1737296450947,
     "user": {
      "displayName": "Arian ghaderi",
      "userId": "07749721859380516600"
     },
     "user_tz": -210
    },
    "id": "W9NMwfK_4mO8"
   },
   "outputs": [],
   "source": [
    "#غکس:   /content/drive/MyDrive/Colab Notebooks/data/giraffe_reticulated_IS.jpg\n",
    "\n",
    "from PIL import Image         #کتابخانه پیل برای خوندن عکس\n",
    "\n",
    "image= Image.open(\"/content/drive/MyDrive/Colab Notebooks/data/giraffe_reticulated_IS.jpg\")"
   ]
  },
  {
   "cell_type": "code",
   "execution_count": 28,
   "metadata": {
    "executionInfo": {
     "elapsed": 7028,
     "status": "ok",
     "timestamp": 1737296464810,
     "user": {
      "displayName": "Arian ghaderi",
      "userId": "07749721859380516600"
     },
     "user_tz": -210
    },
    "id": "zCzJHwMs5C2r"
   },
   "outputs": [],
   "source": [
    "image_input= preprocess(image).unsqueeze(0).to(device)\n",
    "\n",
    "#پریپاسس مدل کلیپ      یک بعد با دستور ان اس کوییز بهش اضافه میکنیم که بهش یک تصویر سه کاناله دویست بیست چهار در دویست بیست چهار"
   ]
  },
  {
   "cell_type": "markdown",
   "metadata": {
    "id": "Cn2vx88v6P-n"
   },
   "source": [
    "الان تصویر امادس برای گرفتن بردار امبدینگ یا همون ویژگی از مدل"
   ]
  },
  {
   "cell_type": "code",
   "execution_count": 39,
   "metadata": {
    "executionInfo": {
     "elapsed": 8,
     "status": "ok",
     "timestamp": 1737297713051,
     "user": {
      "displayName": "Arian ghaderi",
      "userId": "07749721859380516600"
     },
     "user_tz": -210
    },
    "id": "QE1qcNGt6Jn8"
   },
   "outputs": [],
   "source": [
    "texts =[\"giraffe\",\"bufallo\",\"tree\",\"a giraffe\", \"a photo of a giraffe\",\" a giraffe eating tree\",\"a boy playing football\"]\n",
    "#میخاییم شباهت این تصویر رو با این سه تا متن بسنجیم\n",
    "\n",
    "\n",
    "text_input=  torch.cat([clip.tokenize(f\"{c}\") for c in texts]).to(device)\n",
    "# توکنایز کردن متن و بردن روی دیوایس"
   ]
  },
  {
   "cell_type": "code",
   "execution_count": 40,
   "metadata": {
    "executionInfo": {
     "elapsed": 553,
     "status": "ok",
     "timestamp": 1737297716945,
     "user": {
      "displayName": "Arian ghaderi",
      "userId": "07749721859380516600"
     },
     "user_tz": -210
    },
    "id": "BU0i-Gcq7cLT"
   },
   "outputs": [],
   "source": [
    "# Calculate features\n",
    "#محاسبه ویژگی های تصویر و متن\n",
    "\n",
    "with torch.no_grad():\n",
    "    image_features = model.encode_image(image_input)\n",
    "    text_features = model.encode_text(text_input)"
   ]
  },
  {
   "cell_type": "code",
   "execution_count": 41,
   "metadata": {
    "colab": {
     "base_uri": "https://localhost:8080/"
    },
    "executionInfo": {
     "elapsed": 6,
     "status": "ok",
     "timestamp": 1737297718354,
     "user": {
      "displayName": "Arian ghaderi",
      "userId": "07749721859380516600"
     },
     "user_tz": -210
    },
    "id": "ImC6J6k57wXI",
    "outputId": "7544ceb2-6b7a-4be0-ec5e-2a26cf9bc6a5"
   },
   "outputs": [
    {
     "data": {
      "text/plain": [
       "(torch.Size([1, 512]), torch.Size([7, 512]))"
      ]
     },
     "execution_count": 41,
     "metadata": {},
     "output_type": "execute_result"
    }
   ],
   "source": [
    "image_features.shape , text_features.shape"
   ]
  },
  {
   "cell_type": "markdown",
   "metadata": {
    "id": "fqV-k-W48NsH"
   },
   "source": [
    "یک تصویر با یک بردار ویژگی 512 تایی\n",
    "\n",
    "هفت تصویر هر کدام بردار ویژگی 512 تایی"
   ]
  },
  {
   "cell_type": "code",
   "execution_count": 42,
   "metadata": {
    "colab": {
     "base_uri": "https://localhost:8080/"
    },
    "executionInfo": {
     "elapsed": 361,
     "status": "ok",
     "timestamp": 1737297721855,
     "user": {
      "displayName": "Arian ghaderi",
      "userId": "07749721859380516600"
     },
     "user_tz": -210
    },
    "id": "XmtxQ2l28fGM",
    "outputId": "7dc8fc8b-c851-4109-9e10-b178ea8063e6"
   },
   "outputs": [
    {
     "name": "stdout",
     "output_type": "stream",
     "text": [
      "giraffe: 31.640625\n",
      "bufallo: 23.015625\n",
      "tree: 22.265625\n",
      "a giraffe: 32.0625\n",
      "a photo of a giraffe: 33.25\n",
      " a giraffe eating tree: 32.09375\n",
      "a boy playing football: 20.90625\n"
     ]
    }
   ],
   "source": [
    "#سنجش فاصله با استفاده از ضرب داخلی\n",
    "\n",
    "#اول ویژگی های تصویر رو نرمالایز میکنه و بعد تقسیم میکنه ایمیج فیچر رو به این عدد و این تبدیل میشه به یک بردار نرمالایزه\n",
    "image_features /= image_features.norm(dim=-1, keepdim=True)\n",
    "#به همین ترتیب برای متن\n",
    "text_features /= text_features.norm(dim=-1, keepdim=True)\n",
    "\n",
    "#حالا که نرمالیزه شدن وقتی ضرب داخلی کنیم(میزان شباهت رو نشون میده) و از سافت مکس ردش کنیم درصد احتمال رو نشون میده\n",
    "similarity = (100.0 * image_features @ text_features.T)#.softmax(dim=-1)\n",
    "\n",
    "\n",
    "for i in range(len(texts)):\n",
    "  print(f\"{texts[i]}: {similarity[0][i]}\")\n"
   ]
  },
  {
   "cell_type": "markdown",
   "metadata": {
    "id": "j39jXJToBcCk"
   },
   "source": [
    "این برا این حالت بود که ما یک تصویر رو با متن مقایسه کنیم"
   ]
  },
  {
   "cell_type": "markdown",
   "metadata": {
    "id": "nk1WQYl5Borf"
   },
   "source": [
    "حالا اگه بخاییم دسته بندی انجام بدیم چی ؟ باید برای هر کلاسمون یک متن بسازیم و اون متن هارو بدیم به مدل بردار ویژگی استخراج کنه و با هر تصویر مقایسه کنیم"
   ]
  },
  {
   "cell_type": "markdown",
   "metadata": {
    "id": "MpRA67SnCHut"
   },
   "source": [
    "#استفاده از زیرو شات  برای دسته بندی"
   ]
  },
  {
   "cell_type": "code",
   "execution_count": 53,
   "metadata": {
    "executionInfo": {
     "elapsed": 70768,
     "status": "ok",
     "timestamp": 1737299707031,
     "user": {
      "displayName": "Arian ghaderi",
      "userId": "07749721859380516600"
     },
     "user_tz": -210
    },
    "id": "GMXidD_5_Lno"
   },
   "outputs": [],
   "source": [
    "text_inputs = torch.cat([clip.tokenize(f\"a photo of a {c}\") for c in train_set.classes]).to(device)\n",
    "\n",
    "predictin=np.zeros((0))\n",
    "Labels=np.zeros((0))\n",
    "\n",
    "with torch.no_grad():\n",
    "  text_features = model.encode_text(text_inputs)\n",
    "  text_features /= text_features.norm(dim=-1, keepdim=True)\n",
    "  for image,labels in test_loader:\n",
    "      image_features = model.encode_image(image.to(device))\n",
    "\n",
    "      image_features /= image_features.norm(dim=-1, keepdim=True)\n",
    "\n",
    "      similarity = (image_features @ text_features.T)\n",
    "\n",
    "      #پیش بینی اینکه کدوم کلاس بیشترین شباهت رو داشت\n",
    "      pred=np.argmax(similarity.cpu().numpy(),axis=1)\n",
    "\n",
    "      #اذغام کردن اون ماتریس خالی با ماتریس پیش بینی مون\n",
    "      prediction=np.concatenate((predictin,pred))\n",
    "\n",
    "      #اذغام کردن اون ماتریس خالی با ماتریس برچسب مون\n",
    "      test_labels=np.concatenate((Labels,labels))\n",
    "\n"
   ]
  },
  {
   "cell_type": "code",
   "execution_count": 55,
   "metadata": {
    "colab": {
     "base_uri": "https://localhost:8080/"
    },
    "executionInfo": {
     "elapsed": 487,
     "status": "ok",
     "timestamp": 1737299718884,
     "user": {
      "displayName": "Arian ghaderi",
      "userId": "07749721859380516600"
     },
     "user_tz": -210
    },
    "id": "6uB1IcGLFhXA",
    "outputId": "c53c5441-130b-41f6-9f50-24b474acc4ee"
   },
   "outputs": [
    {
     "name": "stdout",
     "output_type": "stream",
     "text": [
      "Accuracy = 0.000\n"
     ]
    }
   ],
   "source": [
    "accuracy = np.mean((test_labels == prediction).astype(float)) * 100.\n",
    "print(f\"Accuracy = {accuracy:.3f}\")"
   ]
  },
  {
   "cell_type": "code",
   "execution_count": 59,
   "metadata": {
    "colab": {
     "base_uri": "https://localhost:8080/"
    },
    "executionInfo": {
     "elapsed": 69190,
     "status": "ok",
     "timestamp": 1737300351567,
     "user": {
      "displayName": "Arian ghaderi",
      "userId": "07749721859380516600"
     },
     "user_tz": -210
    },
    "id": "3BSTiHqIJMdH",
    "outputId": "48463518-7045-4457-9759-26786f635b29"
   },
   "outputs": [
    {
     "name": "stdout",
     "output_type": "stream",
     "text": [
      "              precision    recall  f1-score   support\n",
      "\n",
      "  Fokker 100       0.00      0.00      0.00       0.0\n",
      "   Fokker 70       0.00      0.00      0.00       0.0\n",
      "       MD-90       0.00      0.00      0.00       0.0\n",
      "   Saab 2000       0.00      0.00      0.00       0.0\n",
      "    Saab 340       0.00      0.00      0.00       0.0\n",
      "      Tu-154       0.00      0.00      0.00       0.0\n",
      "\n",
      "   micro avg       0.00      0.00      0.00       0.0\n",
      "   macro avg       0.00      0.00      0.00       0.0\n",
      "weighted avg       0.00      0.00      0.00       0.0\n",
      "\n"
     ]
    },
    {
     "name": "stderr",
     "output_type": "stream",
     "text": [
      "/usr/local/lib/python3.11/dist-packages/sklearn/metrics/_classification.py:1565: UndefinedMetricWarning: Recall is ill-defined and being set to 0.0 in labels with no true samples. Use `zero_division` parameter to control this behavior.\n",
      "  _warn_prf(average, modifier, f\"{metric.capitalize()} is\", len(result))\n",
      "/usr/local/lib/python3.11/dist-packages/sklearn/metrics/_classification.py:1565: UndefinedMetricWarning: Recall is ill-defined and being set to 0.0 due to no true samples. Use `zero_division` parameter to control this behavior.\n",
      "  _warn_prf(average, modifier, f\"{metric.capitalize()} is\", len(result))\n",
      "/usr/local/lib/python3.11/dist-packages/sklearn/metrics/_classification.py:1565: UndefinedMetricWarning: Recall is ill-defined and being set to 0.0 in labels with no true samples. Use `zero_division` parameter to control this behavior.\n",
      "  _warn_prf(average, modifier, f\"{metric.capitalize()} is\", len(result))\n",
      "/usr/local/lib/python3.11/dist-packages/sklearn/metrics/_classification.py:1565: UndefinedMetricWarning: Recall is ill-defined and being set to 0.0 in labels with no true samples. Use `zero_division` parameter to control this behavior.\n",
      "  _warn_prf(average, modifier, f\"{metric.capitalize()} is\", len(result))\n"
     ]
    }
   ],
   "source": [
    "text_inputs = torch.cat([clip.tokenize(f\"a photo of a {c}\") for c in train_set.classes]).to(device)\n",
    "\n",
    "predictin=np.zeros((0))\n",
    "Labels=np.zeros((0))\n",
    "\n",
    "with torch.no_grad():\n",
    "  text_features = model.encode_text(text_inputs)\n",
    "  text_features /= text_features.norm(dim=-1, keepdim=True)\n",
    "  for image,labels in test_loader:\n",
    "      image_features = model.encode_image(image.to(device))\n",
    "\n",
    "      image_features /= image_features.norm(dim=-1, keepdim=True)\n",
    "\n",
    "      similarity = (image_features @ text_features.T)\n",
    "\n",
    "      #پیش بینی اینکه کدوم کلاس بیشترین شباهت رو داشت\n",
    "      pred=np.argmax(similarity.cpu().numpy(),axis=1)\n",
    "\n",
    "      #اذغام کردن اون ماتریس خالی با ماتریس پیش بینی مون\n",
    "      prediction=np.concatenate((predictin,pred))\n",
    "\n",
    "      #اذغام کردن اون ماتریس خالی با ماتریس برچسب مون\n",
    "      test_labels=np.concatenate((Labels,labels))\n",
    "\n",
    "\n",
    "# Get unique labels from predictions and convert them to integers\n",
    "unique_labels = np.unique(prediction).astype(int)\n",
    "\n",
    "# Filter target names to match predicted labels\n",
    "filtered_target_names = [train_set.classes[i] for i in unique_labels]\n",
    "\n",
    "\n",
    "from sklearn.metrics import classification_report\n",
    "\n",
    "# Pass the filtered target names to classification_report\n",
    "print(classification_report(test_labels, prediction, target_names=filtered_target_names, labels=unique_labels)) # Pass labels to specify the classes to include"
   ]
  },
  {
   "cell_type": "markdown",
   "metadata": {
    "id": "KBYug8JRJ-nl"
   },
   "source": [
    "اینجا دقتی که از زیرو شات میگیریم کمتره چون اسم کلاس ها عدد و چیزای مفهمومی نیست البته میتونیم با تنظیم پرامپت بهتر نتیجه بهتر بگیریم"
   ]
  },
  {
   "cell_type": "markdown",
   "metadata": {
    "id": "ntGb8cSHKcKI"
   },
   "source": [
    "زیرو شات جاهایی که اسم کلاس هامون مفهومیه بدرد بخوره"
   ]
  },
  {
   "cell_type": "markdown",
   "metadata": {
    "id": "_ojQxYB4LUAS"
   },
   "source": [
    "#https://github.com/lucidrains/DALLE2-pytorch"
   ]
  },
  {
   "cell_type": "markdown",
   "metadata": {
    "id": "yAFaksa7LdUu"
   },
   "source": [
    "نحوه پیاده سازی مدل دال ای و اموزش دیگودر و پیرور و مدل های پری ترین ان و چک پوینت ها در هاگینگ فیس"
   ]
  }
 ],
 "metadata": {
  "accelerator": "GPU",
  "colab": {
   "authorship_tag": "ABX9TyOZRE4/iyayn0T5DTUxisKv",
   "gpuType": "T4",
   "mount_file_id": "1Q9y5pTKRPXfjSDa1N4Nq8L3jbmVHP-k0",
   "provenance": []
  },
  "kernelspec": {
   "display_name": "Python 3",
   "name": "python3"
  },
  "language_info": {
   "name": "python"
  }
 },
 "nbformat": 4,
 "nbformat_minor": 0
}
